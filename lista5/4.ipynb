{
  "cells": [
    {
      "cell_type": "markdown",
      "metadata": {
        "id": "qm5lmIq9Xe-a"
      },
      "source": [
        "**Regras de associação**\n",
        "\n",
        "**Algoritmo Apriori**\n",
        "\n",
        "**Veja: https://www.youtube.com/watch?v=0v6PiOpsJi8** "
      ]
    },
    {
      "cell_type": "code",
      "execution_count": 107,
      "metadata": {
        "colab": {
          "base_uri": "https://localhost:8080/"
        },
        "id": "2bZM-_AsBVca",
        "outputId": "22733a89-43fb-4ece-cc20-f21516a6c881"
      },
      "outputs": [
        {
          "name": "stdout",
          "output_type": "stream",
          "text": [
            "Requirement already satisfied: apyori in /Library/Frameworks/Python.framework/Versions/3.11/lib/python3.11/site-packages (1.1.2)\n",
            "\n",
            "\u001b[1m[\u001b[0m\u001b[34;49mnotice\u001b[0m\u001b[1;39;49m]\u001b[0m\u001b[39;49m A new release of pip is available: \u001b[0m\u001b[31;49m23.2.1\u001b[0m\u001b[39;49m -> \u001b[0m\u001b[32;49m23.3\u001b[0m\n",
            "\u001b[1m[\u001b[0m\u001b[34;49mnotice\u001b[0m\u001b[1;39;49m]\u001b[0m\u001b[39;49m To update, run: \u001b[0m\u001b[32;49mpython3.11 -m pip install --upgrade pip\u001b[0m\n"
          ]
        }
      ],
      "source": [
        "!pip3 install apyori"
      ]
    },
    {
      "cell_type": "code",
      "execution_count": 108,
      "metadata": {
        "id": "m3d_ivF4Bcn5"
      },
      "outputs": [],
      "source": [
        "import pandas as pd\n",
        "from apyori import apriori"
      ]
    },
    {
      "cell_type": "code",
      "execution_count": 109,
      "metadata": {
        "colab": {
          "base_uri": "https://localhost:8080/",
          "height": 449
        },
        "id": "fGx34zCzBkw1",
        "outputId": "d719f509-7f66-424f-b88d-d1dddfc37b41"
      },
      "outputs": [
        {
          "data": {
            "text/html": [
              "<div>\n",
              "<style scoped>\n",
              "    .dataframe tbody tr th:only-of-type {\n",
              "        vertical-align: middle;\n",
              "    }\n",
              "\n",
              "    .dataframe tbody tr th {\n",
              "        vertical-align: top;\n",
              "    }\n",
              "\n",
              "    .dataframe thead th {\n",
              "        text-align: right;\n",
              "    }\n",
              "</style>\n",
              "<table border=\"1\" class=\"dataframe\">\n",
              "  <thead>\n",
              "    <tr style=\"text-align: right;\">\n",
              "      <th></th>\n",
              "      <th>Leite</th>\n",
              "      <th>Cafe</th>\n",
              "      <th>Cerveja</th>\n",
              "      <th>Pao</th>\n",
              "      <th>Manteiga</th>\n",
              "      <th>Arroz</th>\n",
              "      <th>Feijao</th>\n",
              "    </tr>\n",
              "  </thead>\n",
              "  <tbody>\n",
              "    <tr>\n",
              "      <th>0</th>\n",
              "      <td>NaN</td>\n",
              "      <td>Cafe</td>\n",
              "      <td>NaN</td>\n",
              "      <td>Pao</td>\n",
              "      <td>Manteiga</td>\n",
              "      <td>NaN</td>\n",
              "      <td>NaN</td>\n",
              "    </tr>\n",
              "    <tr>\n",
              "      <th>1</th>\n",
              "      <td>Leite</td>\n",
              "      <td>NaN</td>\n",
              "      <td>Cerveja</td>\n",
              "      <td>Pao</td>\n",
              "      <td>Manteiga</td>\n",
              "      <td>NaN</td>\n",
              "      <td>NaN</td>\n",
              "    </tr>\n",
              "    <tr>\n",
              "      <th>2</th>\n",
              "      <td>NaN</td>\n",
              "      <td>Cafe</td>\n",
              "      <td>NaN</td>\n",
              "      <td>Pao</td>\n",
              "      <td>Manteiga</td>\n",
              "      <td>NaN</td>\n",
              "      <td>NaN</td>\n",
              "    </tr>\n",
              "    <tr>\n",
              "      <th>3</th>\n",
              "      <td>Leite</td>\n",
              "      <td>Cafe</td>\n",
              "      <td>NaN</td>\n",
              "      <td>Pao</td>\n",
              "      <td>Manteiga</td>\n",
              "      <td>NaN</td>\n",
              "      <td>NaN</td>\n",
              "    </tr>\n",
              "    <tr>\n",
              "      <th>4</th>\n",
              "      <td>NaN</td>\n",
              "      <td>NaN</td>\n",
              "      <td>Cerveja</td>\n",
              "      <td>NaN</td>\n",
              "      <td>NaN</td>\n",
              "      <td>NaN</td>\n",
              "      <td>NaN</td>\n",
              "    </tr>\n",
              "    <tr>\n",
              "      <th>5</th>\n",
              "      <td>NaN</td>\n",
              "      <td>NaN</td>\n",
              "      <td>NaN</td>\n",
              "      <td>NaN</td>\n",
              "      <td>Manteiga</td>\n",
              "      <td>NaN</td>\n",
              "      <td>NaN</td>\n",
              "    </tr>\n",
              "    <tr>\n",
              "      <th>6</th>\n",
              "      <td>NaN</td>\n",
              "      <td>NaN</td>\n",
              "      <td>NaN</td>\n",
              "      <td>Pao</td>\n",
              "      <td>NaN</td>\n",
              "      <td>NaN</td>\n",
              "      <td>NaN</td>\n",
              "    </tr>\n",
              "    <tr>\n",
              "      <th>7</th>\n",
              "      <td>NaN</td>\n",
              "      <td>NaN</td>\n",
              "      <td>NaN</td>\n",
              "      <td>NaN</td>\n",
              "      <td>NaN</td>\n",
              "      <td>NaN</td>\n",
              "      <td>Feijao</td>\n",
              "    </tr>\n",
              "    <tr>\n",
              "      <th>8</th>\n",
              "      <td>NaN</td>\n",
              "      <td>NaN</td>\n",
              "      <td>NaN</td>\n",
              "      <td>NaN</td>\n",
              "      <td>NaN</td>\n",
              "      <td>Arroz</td>\n",
              "      <td>Feijao</td>\n",
              "    </tr>\n",
              "    <tr>\n",
              "      <th>9</th>\n",
              "      <td>NaN</td>\n",
              "      <td>NaN</td>\n",
              "      <td>NaN</td>\n",
              "      <td>NaN</td>\n",
              "      <td>NaN</td>\n",
              "      <td>Arroz</td>\n",
              "      <td>NaN</td>\n",
              "    </tr>\n",
              "  </tbody>\n",
              "</table>\n",
              "</div>"
            ],
            "text/plain": [
              "   Leite  Cafe  Cerveja  Pao  Manteiga  Arroz  Feijao\n",
              "0    NaN  Cafe      NaN  Pao  Manteiga    NaN     NaN\n",
              "1  Leite   NaN  Cerveja  Pao  Manteiga    NaN     NaN\n",
              "2    NaN  Cafe      NaN  Pao  Manteiga    NaN     NaN\n",
              "3  Leite  Cafe      NaN  Pao  Manteiga    NaN     NaN\n",
              "4    NaN   NaN  Cerveja  NaN       NaN    NaN     NaN\n",
              "5    NaN   NaN      NaN  NaN  Manteiga    NaN     NaN\n",
              "6    NaN   NaN      NaN  Pao       NaN    NaN     NaN\n",
              "7    NaN   NaN      NaN  NaN       NaN    NaN  Feijao\n",
              "8    NaN   NaN      NaN  NaN       NaN  Arroz  Feijao\n",
              "9    NaN   NaN      NaN  NaN       NaN  Arroz     NaN"
            ]
          },
          "execution_count": 109,
          "metadata": {},
          "output_type": "execute_result"
        }
      ],
      "source": [
        "#encoding = \"cp1252\", encoding='utf-8', encoding='latin1'etc\n",
        "base= pd.read_csv(filepath_or_buffer='SIM.csv',sep=\";\", encoding='cp1252')\n",
        "#base= pd.read_csv('/content/sample_data/pasta de dente python SIM e NÃO.csv', ';', encoding='cp1252')\n",
        "#base= pd.read_csv('/content/sample_data/pasta de dente python SIM.csv', ';', encoding='cp1252',header=None)\n",
        "base"
      ]
    },
    {
      "cell_type": "code",
      "execution_count": 110,
      "metadata": {
        "colab": {
          "base_uri": "https://localhost:8080/"
        },
        "id": "bqUKr_T8PXYn",
        "outputId": "68304296-8afa-4e2b-d8de-6f36dcdcf343"
      },
      "outputs": [
        {
          "data": {
            "text/plain": [
              "(10, 7)"
            ]
          },
          "execution_count": 110,
          "metadata": {},
          "output_type": "execute_result"
        }
      ],
      "source": [
        "base.shape"
      ]
    },
    {
      "cell_type": "markdown",
      "metadata": {
        "id": "qMSzc0sIOd2S"
      },
      "source": [
        "**O código a seguir altera a base de dados para colocar as ausências dos produtos**"
      ]
    },
    {
      "cell_type": "code",
      "execution_count": 111,
      "metadata": {
        "id": "19-9OGl8N84K"
      },
      "outputs": [],
      "source": [
        "for column in base:\n",
        "    base[column]=base[column].fillna('~' + column)"
      ]
    },
    {
      "cell_type": "code",
      "execution_count": 112,
      "metadata": {
        "id": "EzgU0z9lPb7e"
      },
      "outputs": [
        {
          "data": {
            "text/html": [
              "<div>\n",
              "<style scoped>\n",
              "    .dataframe tbody tr th:only-of-type {\n",
              "        vertical-align: middle;\n",
              "    }\n",
              "\n",
              "    .dataframe tbody tr th {\n",
              "        vertical-align: top;\n",
              "    }\n",
              "\n",
              "    .dataframe thead th {\n",
              "        text-align: right;\n",
              "    }\n",
              "</style>\n",
              "<table border=\"1\" class=\"dataframe\">\n",
              "  <thead>\n",
              "    <tr style=\"text-align: right;\">\n",
              "      <th></th>\n",
              "      <th>Leite</th>\n",
              "      <th>Cafe</th>\n",
              "      <th>Cerveja</th>\n",
              "      <th>Pao</th>\n",
              "      <th>Manteiga</th>\n",
              "      <th>Arroz</th>\n",
              "      <th>Feijao</th>\n",
              "    </tr>\n",
              "  </thead>\n",
              "  <tbody>\n",
              "    <tr>\n",
              "      <th>0</th>\n",
              "      <td>~Leite</td>\n",
              "      <td>Cafe</td>\n",
              "      <td>~ Cerveja</td>\n",
              "      <td>Pao</td>\n",
              "      <td>Manteiga</td>\n",
              "      <td>~ Arroz</td>\n",
              "      <td>~ Feijao</td>\n",
              "    </tr>\n",
              "    <tr>\n",
              "      <th>1</th>\n",
              "      <td>Leite</td>\n",
              "      <td>~ Cafe</td>\n",
              "      <td>Cerveja</td>\n",
              "      <td>Pao</td>\n",
              "      <td>Manteiga</td>\n",
              "      <td>~ Arroz</td>\n",
              "      <td>~ Feijao</td>\n",
              "    </tr>\n",
              "    <tr>\n",
              "      <th>2</th>\n",
              "      <td>~Leite</td>\n",
              "      <td>Cafe</td>\n",
              "      <td>~ Cerveja</td>\n",
              "      <td>Pao</td>\n",
              "      <td>Manteiga</td>\n",
              "      <td>~ Arroz</td>\n",
              "      <td>~ Feijao</td>\n",
              "    </tr>\n",
              "    <tr>\n",
              "      <th>3</th>\n",
              "      <td>Leite</td>\n",
              "      <td>Cafe</td>\n",
              "      <td>~ Cerveja</td>\n",
              "      <td>Pao</td>\n",
              "      <td>Manteiga</td>\n",
              "      <td>~ Arroz</td>\n",
              "      <td>~ Feijao</td>\n",
              "    </tr>\n",
              "    <tr>\n",
              "      <th>4</th>\n",
              "      <td>~Leite</td>\n",
              "      <td>~ Cafe</td>\n",
              "      <td>Cerveja</td>\n",
              "      <td>~ Pao</td>\n",
              "      <td>~Manteiga</td>\n",
              "      <td>~ Arroz</td>\n",
              "      <td>~ Feijao</td>\n",
              "    </tr>\n",
              "    <tr>\n",
              "      <th>5</th>\n",
              "      <td>~Leite</td>\n",
              "      <td>~ Cafe</td>\n",
              "      <td>~ Cerveja</td>\n",
              "      <td>~ Pao</td>\n",
              "      <td>Manteiga</td>\n",
              "      <td>~ Arroz</td>\n",
              "      <td>~ Feijao</td>\n",
              "    </tr>\n",
              "    <tr>\n",
              "      <th>6</th>\n",
              "      <td>~Leite</td>\n",
              "      <td>~ Cafe</td>\n",
              "      <td>~ Cerveja</td>\n",
              "      <td>Pao</td>\n",
              "      <td>~Manteiga</td>\n",
              "      <td>~ Arroz</td>\n",
              "      <td>~ Feijao</td>\n",
              "    </tr>\n",
              "    <tr>\n",
              "      <th>7</th>\n",
              "      <td>~Leite</td>\n",
              "      <td>~ Cafe</td>\n",
              "      <td>~ Cerveja</td>\n",
              "      <td>~ Pao</td>\n",
              "      <td>~Manteiga</td>\n",
              "      <td>~ Arroz</td>\n",
              "      <td>Feijao</td>\n",
              "    </tr>\n",
              "    <tr>\n",
              "      <th>8</th>\n",
              "      <td>~Leite</td>\n",
              "      <td>~ Cafe</td>\n",
              "      <td>~ Cerveja</td>\n",
              "      <td>~ Pao</td>\n",
              "      <td>~Manteiga</td>\n",
              "      <td>Arroz</td>\n",
              "      <td>Feijao</td>\n",
              "    </tr>\n",
              "    <tr>\n",
              "      <th>9</th>\n",
              "      <td>~Leite</td>\n",
              "      <td>~ Cafe</td>\n",
              "      <td>~ Cerveja</td>\n",
              "      <td>~ Pao</td>\n",
              "      <td>~Manteiga</td>\n",
              "      <td>Arroz</td>\n",
              "      <td>~ Feijao</td>\n",
              "    </tr>\n",
              "  </tbody>\n",
              "</table>\n",
              "</div>"
            ],
            "text/plain": [
              "    Leite    Cafe    Cerveja    Pao   Manteiga    Arroz    Feijao\n",
              "0  ~Leite    Cafe  ~ Cerveja    Pao   Manteiga  ~ Arroz  ~ Feijao\n",
              "1   Leite  ~ Cafe    Cerveja    Pao   Manteiga  ~ Arroz  ~ Feijao\n",
              "2  ~Leite    Cafe  ~ Cerveja    Pao   Manteiga  ~ Arroz  ~ Feijao\n",
              "3   Leite    Cafe  ~ Cerveja    Pao   Manteiga  ~ Arroz  ~ Feijao\n",
              "4  ~Leite  ~ Cafe    Cerveja  ~ Pao  ~Manteiga  ~ Arroz  ~ Feijao\n",
              "5  ~Leite  ~ Cafe  ~ Cerveja  ~ Pao   Manteiga  ~ Arroz  ~ Feijao\n",
              "6  ~Leite  ~ Cafe  ~ Cerveja    Pao  ~Manteiga  ~ Arroz  ~ Feijao\n",
              "7  ~Leite  ~ Cafe  ~ Cerveja  ~ Pao  ~Manteiga  ~ Arroz    Feijao\n",
              "8  ~Leite  ~ Cafe  ~ Cerveja  ~ Pao  ~Manteiga    Arroz    Feijao\n",
              "9  ~Leite  ~ Cafe  ~ Cerveja  ~ Pao  ~Manteiga    Arroz  ~ Feijao"
            ]
          },
          "execution_count": 112,
          "metadata": {},
          "output_type": "execute_result"
        }
      ],
      "source": [
        "base"
      ]
    },
    {
      "cell_type": "code",
      "execution_count": 113,
      "metadata": {
        "id": "oIBsczbGCxWf"
      },
      "outputs": [
        {
          "data": {
            "text/plain": [
              "(10, 7)"
            ]
          },
          "execution_count": 113,
          "metadata": {},
          "output_type": "execute_result"
        }
      ],
      "source": [
        "base.shape"
      ]
    },
    {
      "cell_type": "markdown",
      "metadata": {
        "id": "cQyNolxV37tx"
      },
      "source": [
        "**Como estaremos treinando um modelo a priori, que recebe entradas em formato de lista, precisamos transformar o dataframe em uma lista de transações.**"
      ]
    },
    {
      "cell_type": "code",
      "execution_count": 114,
      "metadata": {
        "id": "ZF8i0EdWCMjY"
      },
      "outputs": [],
      "source": [
        "transacoes = []\n",
        "for i in range(len(base)):\n",
        "  #print(i)\n",
        "  #print(base_mercado1.values[i, 0])\n",
        "  transacoes.append([str(base.values[i, j]) for j in range(base.shape[1])])"
      ]
    },
    {
      "cell_type": "code",
      "execution_count": 115,
      "metadata": {
        "colab": {
          "base_uri": "https://localhost:8080/"
        },
        "id": "XH2CNc6VC3e3",
        "outputId": "1f2140b6-70de-44e5-f984-a5d3618aa65b"
      },
      "outputs": [
        {
          "data": {
            "text/plain": [
              "[['~Leite', 'Cafe', '~ Cerveja', 'Pao', 'Manteiga', '~ Arroz', '~ Feijao'],\n",
              " ['Leite', '~ Cafe', 'Cerveja', 'Pao', 'Manteiga', '~ Arroz', '~ Feijao'],\n",
              " ['~Leite', 'Cafe', '~ Cerveja', 'Pao', 'Manteiga', '~ Arroz', '~ Feijao'],\n",
              " ['Leite', 'Cafe', '~ Cerveja', 'Pao', 'Manteiga', '~ Arroz', '~ Feijao'],\n",
              " ['~Leite', '~ Cafe', 'Cerveja', '~ Pao', '~Manteiga', '~ Arroz', '~ Feijao'],\n",
              " ['~Leite', '~ Cafe', '~ Cerveja', '~ Pao', 'Manteiga', '~ Arroz', '~ Feijao'],\n",
              " ['~Leite', '~ Cafe', '~ Cerveja', 'Pao', '~Manteiga', '~ Arroz', '~ Feijao'],\n",
              " ['~Leite', '~ Cafe', '~ Cerveja', '~ Pao', '~Manteiga', '~ Arroz', 'Feijao'],\n",
              " ['~Leite', '~ Cafe', '~ Cerveja', '~ Pao', '~Manteiga', 'Arroz', 'Feijao'],\n",
              " ['~Leite', '~ Cafe', '~ Cerveja', '~ Pao', '~Manteiga', 'Arroz', '~ Feijao']]"
            ]
          },
          "execution_count": 115,
          "metadata": {},
          "output_type": "execute_result"
        }
      ],
      "source": [
        "transacoes"
      ]
    },
    {
      "cell_type": "code",
      "execution_count": 116,
      "metadata": {
        "colab": {
          "base_uri": "https://localhost:8080/"
        },
        "id": "jF4Ec_ryDNfw",
        "outputId": "8edf4cb8-90f1-448a-fc4e-2a213ae0434d"
      },
      "outputs": [
        {
          "data": {
            "text/plain": [
              "list"
            ]
          },
          "execution_count": 116,
          "metadata": {},
          "output_type": "execute_result"
        }
      ],
      "source": [
        "type(transacoes)"
      ]
    },
    {
      "cell_type": "markdown",
      "metadata": {
        "id": "ggzA0uJg_3Ns"
      },
      "source": [
        "**Vamos chamar executar o algoritmo apriori e armazenar as regras obtidas**"
      ]
    },
    {
      "cell_type": "code",
      "execution_count": 117,
      "metadata": {
        "colab": {
          "base_uri": "https://localhost:8080/"
        },
        "id": "DuX5YuabzqfQ",
        "outputId": "759da255-e827-43c6-828c-20255075316b"
      },
      "outputs": [
        {
          "name": "stdout",
          "output_type": "stream",
          "text": [
            "117\n",
            "[RelationRecord(items=frozenset({'~ Arroz'}), support=0.8, ordered_statistics=[OrderedStatistic(items_base=frozenset(), items_add=frozenset({'~ Arroz'}), confidence=0.8, lift=1.0)]), RelationRecord(items=frozenset({'~ Cerveja'}), support=0.8, ordered_statistics=[OrderedStatistic(items_base=frozenset(), items_add=frozenset({'~ Cerveja'}), confidence=0.8, lift=1.0)]), RelationRecord(items=frozenset({'~ Feijao'}), support=0.8, ordered_statistics=[OrderedStatistic(items_base=frozenset(), items_add=frozenset({'~ Feijao'}), confidence=0.8, lift=1.0)]), RelationRecord(items=frozenset({'~Leite'}), support=0.8, ordered_statistics=[OrderedStatistic(items_base=frozenset(), items_add=frozenset({'~Leite'}), confidence=0.8, lift=1.0)]), RelationRecord(items=frozenset({'Cafe', 'Manteiga'}), support=0.3, ordered_statistics=[OrderedStatistic(items_base=frozenset({'Cafe'}), items_add=frozenset({'Manteiga'}), confidence=1.0, lift=2.0)]), RelationRecord(items=frozenset({'Cafe', 'Pao'}), support=0.3, ordered_statistics=[OrderedStatistic(items_base=frozenset({'Cafe'}), items_add=frozenset({'Pao'}), confidence=1.0, lift=2.0)]), RelationRecord(items=frozenset({'Cafe', '~ Arroz'}), support=0.3, ordered_statistics=[OrderedStatistic(items_base=frozenset({'Cafe'}), items_add=frozenset({'~ Arroz'}), confidence=1.0, lift=1.25)]), RelationRecord(items=frozenset({'Cafe', '~ Cerveja'}), support=0.3, ordered_statistics=[OrderedStatistic(items_base=frozenset({'Cafe'}), items_add=frozenset({'~ Cerveja'}), confidence=1.0, lift=1.25)]), RelationRecord(items=frozenset({'Cafe', '~ Feijao'}), support=0.3, ordered_statistics=[OrderedStatistic(items_base=frozenset({'Cafe'}), items_add=frozenset({'~ Feijao'}), confidence=1.0, lift=1.25)]), RelationRecord(items=frozenset({'Manteiga', 'Pao'}), support=0.4, ordered_statistics=[OrderedStatistic(items_base=frozenset({'Manteiga'}), items_add=frozenset({'Pao'}), confidence=0.8, lift=1.6), OrderedStatistic(items_base=frozenset({'Pao'}), items_add=frozenset({'Manteiga'}), confidence=0.8, lift=1.6)]), RelationRecord(items=frozenset({'Manteiga', '~ Arroz'}), support=0.5, ordered_statistics=[OrderedStatistic(items_base=frozenset({'Manteiga'}), items_add=frozenset({'~ Arroz'}), confidence=1.0, lift=1.25)]), RelationRecord(items=frozenset({'Manteiga', '~ Cerveja'}), support=0.4, ordered_statistics=[OrderedStatistic(items_base=frozenset({'Manteiga'}), items_add=frozenset({'~ Cerveja'}), confidence=0.8, lift=1.0)]), RelationRecord(items=frozenset({'Manteiga', '~ Feijao'}), support=0.5, ordered_statistics=[OrderedStatistic(items_base=frozenset({'Manteiga'}), items_add=frozenset({'~ Feijao'}), confidence=1.0, lift=1.25)]), RelationRecord(items=frozenset({'Pao', '~ Arroz'}), support=0.5, ordered_statistics=[OrderedStatistic(items_base=frozenset({'Pao'}), items_add=frozenset({'~ Arroz'}), confidence=1.0, lift=1.25)]), RelationRecord(items=frozenset({'Pao', '~ Cerveja'}), support=0.4, ordered_statistics=[OrderedStatistic(items_base=frozenset({'Pao'}), items_add=frozenset({'~ Cerveja'}), confidence=0.8, lift=1.0)]), RelationRecord(items=frozenset({'Pao', '~ Feijao'}), support=0.5, ordered_statistics=[OrderedStatistic(items_base=frozenset({'Pao'}), items_add=frozenset({'~ Feijao'}), confidence=1.0, lift=1.25)]), RelationRecord(items=frozenset({'~ Feijao', '~ Arroz'}), support=0.7, ordered_statistics=[OrderedStatistic(items_base=frozenset({'~ Arroz'}), items_add=frozenset({'~ Feijao'}), confidence=0.8749999999999999, lift=1.0937499999999998), OrderedStatistic(items_base=frozenset({'~ Feijao'}), items_add=frozenset({'~ Arroz'}), confidence=0.8749999999999999, lift=1.0937499999999998)]), RelationRecord(items=frozenset({'~ Cafe', '~ Pao'}), support=0.5, ordered_statistics=[OrderedStatistic(items_base=frozenset({'~ Pao'}), items_add=frozenset({'~ Cafe'}), confidence=1.0, lift=1.4285714285714286)]), RelationRecord(items=frozenset({'~ Cafe', '~Leite'}), support=0.6, ordered_statistics=[OrderedStatistic(items_base=frozenset({'~ Cafe'}), items_add=frozenset({'~Leite'}), confidence=0.8571428571428572, lift=1.0714285714285714)]), RelationRecord(items=frozenset({'~ Cafe', '~Manteiga'}), support=0.5, ordered_statistics=[OrderedStatistic(items_base=frozenset({'~Manteiga'}), items_add=frozenset({'~ Cafe'}), confidence=1.0, lift=1.4285714285714286)]), RelationRecord(items=frozenset({'~ Cerveja', '~ Pao'}), support=0.4, ordered_statistics=[OrderedStatistic(items_base=frozenset({'~ Pao'}), items_add=frozenset({'~ Cerveja'}), confidence=0.8, lift=1.0)]), RelationRecord(items=frozenset({'~ Cerveja', '~Leite'}), support=0.7, ordered_statistics=[OrderedStatistic(items_base=frozenset({'~ Cerveja'}), items_add=frozenset({'~Leite'}), confidence=0.8749999999999999, lift=1.0937499999999998), OrderedStatistic(items_base=frozenset({'~Leite'}), items_add=frozenset({'~ Cerveja'}), confidence=0.8749999999999999, lift=1.0937499999999998)]), RelationRecord(items=frozenset({'~ Cerveja', '~Manteiga'}), support=0.4, ordered_statistics=[OrderedStatistic(items_base=frozenset({'~Manteiga'}), items_add=frozenset({'~ Cerveja'}), confidence=0.8, lift=1.0)]), RelationRecord(items=frozenset({'~ Pao', '~Leite'}), support=0.5, ordered_statistics=[OrderedStatistic(items_base=frozenset({'~ Pao'}), items_add=frozenset({'~Leite'}), confidence=1.0, lift=1.25)]), RelationRecord(items=frozenset({'~ Pao', '~Manteiga'}), support=0.4, ordered_statistics=[OrderedStatistic(items_base=frozenset({'~ Pao'}), items_add=frozenset({'~Manteiga'}), confidence=0.8, lift=1.6), OrderedStatistic(items_base=frozenset({'~Manteiga'}), items_add=frozenset({'~ Pao'}), confidence=0.8, lift=1.6)]), RelationRecord(items=frozenset({'~Manteiga', '~Leite'}), support=0.5, ordered_statistics=[OrderedStatistic(items_base=frozenset({'~Manteiga'}), items_add=frozenset({'~Leite'}), confidence=1.0, lift=1.25)]), RelationRecord(items=frozenset({'Cafe', 'Manteiga', 'Pao'}), support=0.3, ordered_statistics=[OrderedStatistic(items_base=frozenset({'Cafe'}), items_add=frozenset({'Manteiga', 'Pao'}), confidence=1.0, lift=2.5), OrderedStatistic(items_base=frozenset({'Cafe', 'Manteiga'}), items_add=frozenset({'Pao'}), confidence=1.0, lift=2.0), OrderedStatistic(items_base=frozenset({'Cafe', 'Pao'}), items_add=frozenset({'Manteiga'}), confidence=1.0, lift=2.0)]), RelationRecord(items=frozenset({'Cafe', 'Manteiga', '~ Arroz'}), support=0.3, ordered_statistics=[OrderedStatistic(items_base=frozenset({'Cafe'}), items_add=frozenset({'Manteiga', '~ Arroz'}), confidence=1.0, lift=2.0), OrderedStatistic(items_base=frozenset({'Cafe', 'Manteiga'}), items_add=frozenset({'~ Arroz'}), confidence=1.0, lift=1.25), OrderedStatistic(items_base=frozenset({'Cafe', '~ Arroz'}), items_add=frozenset({'Manteiga'}), confidence=1.0, lift=2.0)]), RelationRecord(items=frozenset({'Cafe', 'Manteiga', '~ Cerveja'}), support=0.3, ordered_statistics=[OrderedStatistic(items_base=frozenset({'Cafe'}), items_add=frozenset({'Manteiga', '~ Cerveja'}), confidence=1.0, lift=2.5), OrderedStatistic(items_base=frozenset({'Cafe', 'Manteiga'}), items_add=frozenset({'~ Cerveja'}), confidence=1.0, lift=1.25), OrderedStatistic(items_base=frozenset({'Cafe', '~ Cerveja'}), items_add=frozenset({'Manteiga'}), confidence=1.0, lift=2.0)]), RelationRecord(items=frozenset({'Cafe', 'Manteiga', '~ Feijao'}), support=0.3, ordered_statistics=[OrderedStatistic(items_base=frozenset({'Cafe'}), items_add=frozenset({'Manteiga', '~ Feijao'}), confidence=1.0, lift=2.0), OrderedStatistic(items_base=frozenset({'Cafe', 'Manteiga'}), items_add=frozenset({'~ Feijao'}), confidence=1.0, lift=1.25), OrderedStatistic(items_base=frozenset({'Cafe', '~ Feijao'}), items_add=frozenset({'Manteiga'}), confidence=1.0, lift=2.0)]), RelationRecord(items=frozenset({'Cafe', 'Pao', '~ Arroz'}), support=0.3, ordered_statistics=[OrderedStatistic(items_base=frozenset({'Cafe'}), items_add=frozenset({'Pao', '~ Arroz'}), confidence=1.0, lift=2.0), OrderedStatistic(items_base=frozenset({'Cafe', 'Pao'}), items_add=frozenset({'~ Arroz'}), confidence=1.0, lift=1.25), OrderedStatistic(items_base=frozenset({'Cafe', '~ Arroz'}), items_add=frozenset({'Pao'}), confidence=1.0, lift=2.0)]), RelationRecord(items=frozenset({'Cafe', 'Pao', '~ Cerveja'}), support=0.3, ordered_statistics=[OrderedStatistic(items_base=frozenset({'Cafe'}), items_add=frozenset({'Pao', '~ Cerveja'}), confidence=1.0, lift=2.5), OrderedStatistic(items_base=frozenset({'Cafe', 'Pao'}), items_add=frozenset({'~ Cerveja'}), confidence=1.0, lift=1.25), OrderedStatistic(items_base=frozenset({'Cafe', '~ Cerveja'}), items_add=frozenset({'Pao'}), confidence=1.0, lift=2.0)]), RelationRecord(items=frozenset({'Cafe', 'Pao', '~ Feijao'}), support=0.3, ordered_statistics=[OrderedStatistic(items_base=frozenset({'Cafe'}), items_add=frozenset({'Pao', '~ Feijao'}), confidence=1.0, lift=2.0), OrderedStatistic(items_base=frozenset({'Cafe', 'Pao'}), items_add=frozenset({'~ Feijao'}), confidence=1.0, lift=1.25), OrderedStatistic(items_base=frozenset({'Cafe', '~ Feijao'}), items_add=frozenset({'Pao'}), confidence=1.0, lift=2.0)]), RelationRecord(items=frozenset({'Cafe', '~ Cerveja', '~ Arroz'}), support=0.3, ordered_statistics=[OrderedStatistic(items_base=frozenset({'Cafe'}), items_add=frozenset({'~ Cerveja', '~ Arroz'}), confidence=1.0, lift=1.6666666666666667), OrderedStatistic(items_base=frozenset({'Cafe', '~ Arroz'}), items_add=frozenset({'~ Cerveja'}), confidence=1.0, lift=1.25), OrderedStatistic(items_base=frozenset({'Cafe', '~ Cerveja'}), items_add=frozenset({'~ Arroz'}), confidence=1.0, lift=1.25)]), RelationRecord(items=frozenset({'Cafe', '~ Feijao', '~ Arroz'}), support=0.3, ordered_statistics=[OrderedStatistic(items_base=frozenset({'Cafe'}), items_add=frozenset({'~ Feijao', '~ Arroz'}), confidence=1.0, lift=1.4285714285714286), OrderedStatistic(items_base=frozenset({'Cafe', '~ Arroz'}), items_add=frozenset({'~ Feijao'}), confidence=1.0, lift=1.25), OrderedStatistic(items_base=frozenset({'Cafe', '~ Feijao'}), items_add=frozenset({'~ Arroz'}), confidence=1.0, lift=1.25)]), RelationRecord(items=frozenset({'Cafe', '~ Feijao', '~ Cerveja'}), support=0.3, ordered_statistics=[OrderedStatistic(items_base=frozenset({'Cafe'}), items_add=frozenset({'~ Feijao', '~ Cerveja'}), confidence=1.0, lift=1.6666666666666667), OrderedStatistic(items_base=frozenset({'Cafe', '~ Cerveja'}), items_add=frozenset({'~ Feijao'}), confidence=1.0, lift=1.25), OrderedStatistic(items_base=frozenset({'Cafe', '~ Feijao'}), items_add=frozenset({'~ Cerveja'}), confidence=1.0, lift=1.25)]), RelationRecord(items=frozenset({'Manteiga', 'Pao', '~ Arroz'}), support=0.4, ordered_statistics=[OrderedStatistic(items_base=frozenset({'Manteiga'}), items_add=frozenset({'Pao', '~ Arroz'}), confidence=0.8, lift=1.6), OrderedStatistic(items_base=frozenset({'Pao'}), items_add=frozenset({'Manteiga', '~ Arroz'}), confidence=0.8, lift=1.6), OrderedStatistic(items_base=frozenset({'Manteiga', 'Pao'}), items_add=frozenset({'~ Arroz'}), confidence=1.0, lift=1.25), OrderedStatistic(items_base=frozenset({'Manteiga', '~ Arroz'}), items_add=frozenset({'Pao'}), confidence=0.8, lift=1.6), OrderedStatistic(items_base=frozenset({'Pao', '~ Arroz'}), items_add=frozenset({'Manteiga'}), confidence=0.8, lift=1.6)]), RelationRecord(items=frozenset({'Manteiga', 'Pao', '~ Feijao'}), support=0.4, ordered_statistics=[OrderedStatistic(items_base=frozenset({'Manteiga'}), items_add=frozenset({'Pao', '~ Feijao'}), confidence=0.8, lift=1.6), OrderedStatistic(items_base=frozenset({'Pao'}), items_add=frozenset({'Manteiga', '~ Feijao'}), confidence=0.8, lift=1.6), OrderedStatistic(items_base=frozenset({'Manteiga', 'Pao'}), items_add=frozenset({'~ Feijao'}), confidence=1.0, lift=1.25), OrderedStatistic(items_base=frozenset({'Manteiga', '~ Feijao'}), items_add=frozenset({'Pao'}), confidence=0.8, lift=1.6), OrderedStatistic(items_base=frozenset({'Pao', '~ Feijao'}), items_add=frozenset({'Manteiga'}), confidence=0.8, lift=1.6)]), RelationRecord(items=frozenset({'Manteiga', '~ Cerveja', '~ Arroz'}), support=0.4, ordered_statistics=[OrderedStatistic(items_base=frozenset({'Manteiga'}), items_add=frozenset({'~ Cerveja', '~ Arroz'}), confidence=0.8, lift=1.3333333333333335), OrderedStatistic(items_base=frozenset({'Manteiga', '~ Arroz'}), items_add=frozenset({'~ Cerveja'}), confidence=0.8, lift=1.0), OrderedStatistic(items_base=frozenset({'Manteiga', '~ Cerveja'}), items_add=frozenset({'~ Arroz'}), confidence=1.0, lift=1.25)]), RelationRecord(items=frozenset({'Manteiga', '~ Feijao', '~ Arroz'}), support=0.5, ordered_statistics=[OrderedStatistic(items_base=frozenset({'Manteiga'}), items_add=frozenset({'~ Feijao', '~ Arroz'}), confidence=1.0, lift=1.4285714285714286), OrderedStatistic(items_base=frozenset({'Manteiga', '~ Arroz'}), items_add=frozenset({'~ Feijao'}), confidence=1.0, lift=1.25), OrderedStatistic(items_base=frozenset({'Manteiga', '~ Feijao'}), items_add=frozenset({'~ Arroz'}), confidence=1.0, lift=1.25)]), RelationRecord(items=frozenset({'Manteiga', '~Leite', '~ Arroz'}), support=0.3, ordered_statistics=[OrderedStatistic(items_base=frozenset({'Manteiga', '~Leite'}), items_add=frozenset({'~ Arroz'}), confidence=1.0, lift=1.25)]), RelationRecord(items=frozenset({'Manteiga', '~ Feijao', '~ Cerveja'}), support=0.4, ordered_statistics=[OrderedStatistic(items_base=frozenset({'Manteiga'}), items_add=frozenset({'~ Feijao', '~ Cerveja'}), confidence=0.8, lift=1.3333333333333335), OrderedStatistic(items_base=frozenset({'Manteiga', '~ Cerveja'}), items_add=frozenset({'~ Feijao'}), confidence=1.0, lift=1.25), OrderedStatistic(items_base=frozenset({'Manteiga', '~ Feijao'}), items_add=frozenset({'~ Cerveja'}), confidence=0.8, lift=1.0)]), RelationRecord(items=frozenset({'Manteiga', '~ Cerveja', '~Leite'}), support=0.3, ordered_statistics=[OrderedStatistic(items_base=frozenset({'Manteiga', '~Leite'}), items_add=frozenset({'~ Cerveja'}), confidence=1.0, lift=1.25)]), RelationRecord(items=frozenset({'Manteiga', '~ Feijao', '~Leite'}), support=0.3, ordered_statistics=[OrderedStatistic(items_base=frozenset({'Manteiga', '~Leite'}), items_add=frozenset({'~ Feijao'}), confidence=1.0, lift=1.25)]), RelationRecord(items=frozenset({'Pao', '~ Cerveja', '~ Arroz'}), support=0.4, ordered_statistics=[OrderedStatistic(items_base=frozenset({'Pao'}), items_add=frozenset({'~ Cerveja', '~ Arroz'}), confidence=0.8, lift=1.3333333333333335), OrderedStatistic(items_base=frozenset({'Pao', '~ Arroz'}), items_add=frozenset({'~ Cerveja'}), confidence=0.8, lift=1.0), OrderedStatistic(items_base=frozenset({'Pao', '~ Cerveja'}), items_add=frozenset({'~ Arroz'}), confidence=1.0, lift=1.25)]), RelationRecord(items=frozenset({'Pao', '~ Feijao', '~ Arroz'}), support=0.5, ordered_statistics=[OrderedStatistic(items_base=frozenset({'Pao'}), items_add=frozenset({'~ Feijao', '~ Arroz'}), confidence=1.0, lift=1.4285714285714286), OrderedStatistic(items_base=frozenset({'Pao', '~ Arroz'}), items_add=frozenset({'~ Feijao'}), confidence=1.0, lift=1.25), OrderedStatistic(items_base=frozenset({'Pao', '~ Feijao'}), items_add=frozenset({'~ Arroz'}), confidence=1.0, lift=1.25)]), RelationRecord(items=frozenset({'Pao', '~Leite', '~ Arroz'}), support=0.3, ordered_statistics=[OrderedStatistic(items_base=frozenset({'Pao', '~Leite'}), items_add=frozenset({'~ Arroz'}), confidence=1.0, lift=1.25)]), RelationRecord(items=frozenset({'~ Feijao', 'Pao', '~ Cerveja'}), support=0.4, ordered_statistics=[OrderedStatistic(items_base=frozenset({'Pao'}), items_add=frozenset({'~ Feijao', '~ Cerveja'}), confidence=0.8, lift=1.3333333333333335), OrderedStatistic(items_base=frozenset({'Pao', '~ Cerveja'}), items_add=frozenset({'~ Feijao'}), confidence=1.0, lift=1.25), OrderedStatistic(items_base=frozenset({'Pao', '~ Feijao'}), items_add=frozenset({'~ Cerveja'}), confidence=0.8, lift=1.0)]), RelationRecord(items=frozenset({'Pao', '~ Cerveja', '~Leite'}), support=0.3, ordered_statistics=[OrderedStatistic(items_base=frozenset({'Pao', '~Leite'}), items_add=frozenset({'~ Cerveja'}), confidence=1.0, lift=1.25)]), RelationRecord(items=frozenset({'Pao', '~ Feijao', '~Leite'}), support=0.3, ordered_statistics=[OrderedStatistic(items_base=frozenset({'Pao', '~Leite'}), items_add=frozenset({'~ Feijao'}), confidence=1.0, lift=1.25)]), RelationRecord(items=frozenset({'~ Feijao', '~ Cafe', '~ Arroz'}), support=0.4, ordered_statistics=[OrderedStatistic(items_base=frozenset({'~ Cafe', '~ Arroz'}), items_add=frozenset({'~ Feijao'}), confidence=0.8, lift=1.0), OrderedStatistic(items_base=frozenset({'~ Feijao', '~ Cafe'}), items_add=frozenset({'~ Arroz'}), confidence=0.8, lift=1.0)]), RelationRecord(items=frozenset({'~ Cafe', '~ Pao', '~ Arroz'}), support=0.3, ordered_statistics=[OrderedStatistic(items_base=frozenset({'~ Pao', '~ Arroz'}), items_add=frozenset({'~ Cafe'}), confidence=1.0, lift=1.4285714285714286)]), RelationRecord(items=frozenset({'~Leite', '~ Cafe', '~ Arroz'}), support=0.4, ordered_statistics=[OrderedStatistic(items_base=frozenset({'~ Cafe', '~ Arroz'}), items_add=frozenset({'~Leite'}), confidence=0.8, lift=1.0)]), RelationRecord(items=frozenset({'~Manteiga', '~ Cafe', '~ Arroz'}), support=0.3, ordered_statistics=[OrderedStatistic(items_base=frozenset({'~Manteiga', '~ Arroz'}), items_add=frozenset({'~ Cafe'}), confidence=1.0, lift=1.4285714285714286)]), RelationRecord(items=frozenset({'~ Feijao', '~ Cerveja', '~ Arroz'}), support=0.5, ordered_statistics=[OrderedStatistic(items_base=frozenset({'~ Cerveja', '~ Arroz'}), items_add=frozenset({'~ Feijao'}), confidence=0.8333333333333334, lift=1.0416666666666667), OrderedStatistic(items_base=frozenset({'~ Feijao', '~ Cerveja'}), items_add=frozenset({'~ Arroz'}), confidence=0.8333333333333334, lift=1.0416666666666667)]), RelationRecord(items=frozenset({'~Leite', '~ Cerveja', '~ Arroz'}), support=0.5, ordered_statistics=[OrderedStatistic(items_base=frozenset({'~ Cerveja', '~ Arroz'}), items_add=frozenset({'~Leite'}), confidence=0.8333333333333334, lift=1.0416666666666667), OrderedStatistic(items_base=frozenset({'~Leite', '~ Arroz'}), items_add=frozenset({'~ Cerveja'}), confidence=0.8333333333333334, lift=1.0416666666666667)]), RelationRecord(items=frozenset({'~ Feijao', '~Leite', '~ Arroz'}), support=0.5, ordered_statistics=[OrderedStatistic(items_base=frozenset({'~Leite', '~ Arroz'}), items_add=frozenset({'~ Feijao'}), confidence=0.8333333333333334, lift=1.0416666666666667), OrderedStatistic(items_base=frozenset({'~ Feijao', '~Leite'}), items_add=frozenset({'~ Arroz'}), confidence=0.8333333333333334, lift=1.0416666666666667)]), RelationRecord(items=frozenset({'~Leite', '~ Pao', '~ Arroz'}), support=0.3, ordered_statistics=[OrderedStatistic(items_base=frozenset({'~ Pao', '~ Arroz'}), items_add=frozenset({'~Leite'}), confidence=1.0, lift=1.25)]), RelationRecord(items=frozenset({'~Manteiga', '~Leite', '~ Arroz'}), support=0.3, ordered_statistics=[OrderedStatistic(items_base=frozenset({'~Manteiga', '~ Arroz'}), items_add=frozenset({'~Leite'}), confidence=1.0, lift=1.25)]), RelationRecord(items=frozenset({'~ Cafe', '~ Cerveja', '~ Pao'}), support=0.4, ordered_statistics=[OrderedStatistic(items_base=frozenset({'~ Pao'}), items_add=frozenset({'~ Cafe', '~ Cerveja'}), confidence=0.8, lift=1.6), OrderedStatistic(items_base=frozenset({'~ Cafe', '~ Cerveja'}), items_add=frozenset({'~ Pao'}), confidence=0.8, lift=1.6), OrderedStatistic(items_base=frozenset({'~ Cafe', '~ Pao'}), items_add=frozenset({'~ Cerveja'}), confidence=0.8, lift=1.0), OrderedStatistic(items_base=frozenset({'~ Cerveja', '~ Pao'}), items_add=frozenset({'~ Cafe'}), confidence=1.0, lift=1.4285714285714286)]), RelationRecord(items=frozenset({'~ Cafe', '~ Cerveja', '~Leite'}), support=0.5, ordered_statistics=[OrderedStatistic(items_base=frozenset({'~ Cafe', '~ Cerveja'}), items_add=frozenset({'~Leite'}), confidence=1.0, lift=1.25), OrderedStatistic(items_base=frozenset({'~ Cafe', '~Leite'}), items_add=frozenset({'~ Cerveja'}), confidence=0.8333333333333334, lift=1.0416666666666667)]), RelationRecord(items=frozenset({'~ Cafe', '~ Cerveja', '~Manteiga'}), support=0.4, ordered_statistics=[OrderedStatistic(items_base=frozenset({'~Manteiga'}), items_add=frozenset({'~ Cafe', '~ Cerveja'}), confidence=0.8, lift=1.6), OrderedStatistic(items_base=frozenset({'~ Cafe', '~ Cerveja'}), items_add=frozenset({'~Manteiga'}), confidence=0.8, lift=1.6), OrderedStatistic(items_base=frozenset({'~ Cafe', '~Manteiga'}), items_add=frozenset({'~ Cerveja'}), confidence=0.8, lift=1.0), OrderedStatistic(items_base=frozenset({'~ Cerveja', '~Manteiga'}), items_add=frozenset({'~ Cafe'}), confidence=1.0, lift=1.4285714285714286)]), RelationRecord(items=frozenset({'~ Feijao', '~ Cafe', '~ Pao'}), support=0.3, ordered_statistics=[OrderedStatistic(items_base=frozenset({'~ Feijao', '~ Pao'}), items_add=frozenset({'~ Cafe'}), confidence=1.0, lift=1.4285714285714286)]), RelationRecord(items=frozenset({'~ Feijao', '~ Cafe', '~Leite'}), support=0.4, ordered_statistics=[OrderedStatistic(items_base=frozenset({'~ Feijao', '~ Cafe'}), items_add=frozenset({'~Leite'}), confidence=0.8, lift=1.0)]), RelationRecord(items=frozenset({'~ Feijao', '~ Cafe', '~Manteiga'}), support=0.3, ordered_statistics=[OrderedStatistic(items_base=frozenset({'~ Feijao', '~Manteiga'}), items_add=frozenset({'~ Cafe'}), confidence=1.0, lift=1.4285714285714286)]), RelationRecord(items=frozenset({'~ Cafe', '~ Pao', '~Leite'}), support=0.5, ordered_statistics=[OrderedStatistic(items_base=frozenset({'~ Pao'}), items_add=frozenset({'~ Cafe', '~Leite'}), confidence=1.0, lift=1.6666666666666667), OrderedStatistic(items_base=frozenset({'~ Cafe', '~ Pao'}), items_add=frozenset({'~Leite'}), confidence=1.0, lift=1.25), OrderedStatistic(items_base=frozenset({'~ Cafe', '~Leite'}), items_add=frozenset({'~ Pao'}), confidence=0.8333333333333334, lift=1.6666666666666667), OrderedStatistic(items_base=frozenset({'~ Pao', '~Leite'}), items_add=frozenset({'~ Cafe'}), confidence=1.0, lift=1.4285714285714286)]), RelationRecord(items=frozenset({'~ Cafe', '~ Pao', '~Manteiga'}), support=0.4, ordered_statistics=[OrderedStatistic(items_base=frozenset({'~ Pao'}), items_add=frozenset({'~ Cafe', '~Manteiga'}), confidence=0.8, lift=1.6), OrderedStatistic(items_base=frozenset({'~Manteiga'}), items_add=frozenset({'~ Cafe', '~ Pao'}), confidence=0.8, lift=1.6), OrderedStatistic(items_base=frozenset({'~ Cafe', '~ Pao'}), items_add=frozenset({'~Manteiga'}), confidence=0.8, lift=1.6), OrderedStatistic(items_base=frozenset({'~ Cafe', '~Manteiga'}), items_add=frozenset({'~ Pao'}), confidence=0.8, lift=1.6), OrderedStatistic(items_base=frozenset({'~ Pao', '~Manteiga'}), items_add=frozenset({'~ Cafe'}), confidence=1.0, lift=1.4285714285714286)]), RelationRecord(items=frozenset({'~Manteiga', '~ Cafe', '~Leite'}), support=0.5, ordered_statistics=[OrderedStatistic(items_base=frozenset({'~Manteiga'}), items_add=frozenset({'~ Cafe', '~Leite'}), confidence=1.0, lift=1.6666666666666667), OrderedStatistic(items_base=frozenset({'~ Cafe', '~Leite'}), items_add=frozenset({'~Manteiga'}), confidence=0.8333333333333334, lift=1.6666666666666667), OrderedStatistic(items_base=frozenset({'~ Cafe', '~Manteiga'}), items_add=frozenset({'~Leite'}), confidence=1.0, lift=1.25), OrderedStatistic(items_base=frozenset({'~Manteiga', '~Leite'}), items_add=frozenset({'~ Cafe'}), confidence=1.0, lift=1.4285714285714286)]), RelationRecord(items=frozenset({'~ Feijao', '~ Cerveja', '~Leite'}), support=0.5, ordered_statistics=[OrderedStatistic(items_base=frozenset({'~ Feijao', '~ Cerveja'}), items_add=frozenset({'~Leite'}), confidence=0.8333333333333334, lift=1.0416666666666667), OrderedStatistic(items_base=frozenset({'~ Feijao', '~Leite'}), items_add=frozenset({'~ Cerveja'}), confidence=0.8333333333333334, lift=1.0416666666666667)]), RelationRecord(items=frozenset({'~ Cerveja', '~ Pao', '~Leite'}), support=0.4, ordered_statistics=[OrderedStatistic(items_base=frozenset({'~ Pao'}), items_add=frozenset({'~ Cerveja', '~Leite'}), confidence=0.8, lift=1.142857142857143), OrderedStatistic(items_base=frozenset({'~ Cerveja', '~ Pao'}), items_add=frozenset({'~Leite'}), confidence=1.0, lift=1.25), OrderedStatistic(items_base=frozenset({'~ Pao', '~Leite'}), items_add=frozenset({'~ Cerveja'}), confidence=0.8, lift=1.0)]), RelationRecord(items=frozenset({'~Manteiga', '~ Cerveja', '~Leite'}), support=0.4, ordered_statistics=[OrderedStatistic(items_base=frozenset({'~Manteiga'}), items_add=frozenset({'~ Cerveja', '~Leite'}), confidence=0.8, lift=1.142857142857143), OrderedStatistic(items_base=frozenset({'~ Cerveja', '~Manteiga'}), items_add=frozenset({'~Leite'}), confidence=1.0, lift=1.25), OrderedStatistic(items_base=frozenset({'~Manteiga', '~Leite'}), items_add=frozenset({'~ Cerveja'}), confidence=0.8, lift=1.0)]), RelationRecord(items=frozenset({'~ Feijao', '~ Pao', '~Leite'}), support=0.3, ordered_statistics=[OrderedStatistic(items_base=frozenset({'~ Feijao', '~ Pao'}), items_add=frozenset({'~Leite'}), confidence=1.0, lift=1.25)]), RelationRecord(items=frozenset({'~Manteiga', '~ Feijao', '~Leite'}), support=0.3, ordered_statistics=[OrderedStatistic(items_base=frozenset({'~ Feijao', '~Manteiga'}), items_add=frozenset({'~Leite'}), confidence=1.0, lift=1.25)]), RelationRecord(items=frozenset({'~Manteiga', '~ Pao', '~Leite'}), support=0.4, ordered_statistics=[OrderedStatistic(items_base=frozenset({'~ Pao'}), items_add=frozenset({'~Leite', '~Manteiga'}), confidence=0.8, lift=1.6), OrderedStatistic(items_base=frozenset({'~Manteiga'}), items_add=frozenset({'~ Pao', '~Leite'}), confidence=0.8, lift=1.6), OrderedStatistic(items_base=frozenset({'~ Pao', '~Leite'}), items_add=frozenset({'~Manteiga'}), confidence=0.8, lift=1.6), OrderedStatistic(items_base=frozenset({'~ Pao', '~Manteiga'}), items_add=frozenset({'~Leite'}), confidence=1.0, lift=1.25), OrderedStatistic(items_base=frozenset({'~Manteiga', '~Leite'}), items_add=frozenset({'~ Pao'}), confidence=0.8, lift=1.6)]), RelationRecord(items=frozenset({'Cafe', 'Manteiga', 'Pao', '~ Arroz'}), support=0.3, ordered_statistics=[OrderedStatistic(items_base=frozenset({'Cafe'}), items_add=frozenset({'Manteiga', 'Pao', '~ Arroz'}), confidence=1.0, lift=2.5), OrderedStatistic(items_base=frozenset({'Cafe', 'Manteiga'}), items_add=frozenset({'Pao', '~ Arroz'}), confidence=1.0, lift=2.0), OrderedStatistic(items_base=frozenset({'Cafe', 'Pao'}), items_add=frozenset({'Manteiga', '~ Arroz'}), confidence=1.0, lift=2.0), OrderedStatistic(items_base=frozenset({'Cafe', '~ Arroz'}), items_add=frozenset({'Manteiga', 'Pao'}), confidence=1.0, lift=2.5), OrderedStatistic(items_base=frozenset({'Cafe', 'Manteiga', 'Pao'}), items_add=frozenset({'~ Arroz'}), confidence=1.0, lift=1.25), OrderedStatistic(items_base=frozenset({'Cafe', 'Manteiga', '~ Arroz'}), items_add=frozenset({'Pao'}), confidence=1.0, lift=2.0), OrderedStatistic(items_base=frozenset({'Cafe', 'Pao', '~ Arroz'}), items_add=frozenset({'Manteiga'}), confidence=1.0, lift=2.0)]), RelationRecord(items=frozenset({'Cafe', 'Manteiga', 'Pao', '~ Cerveja'}), support=0.3, ordered_statistics=[OrderedStatistic(items_base=frozenset({'Cafe'}), items_add=frozenset({'Manteiga', 'Pao', '~ Cerveja'}), confidence=1.0, lift=3.3333333333333335), OrderedStatistic(items_base=frozenset({'Cafe', 'Manteiga'}), items_add=frozenset({'Pao', '~ Cerveja'}), confidence=1.0, lift=2.5), OrderedStatistic(items_base=frozenset({'Cafe', 'Pao'}), items_add=frozenset({'Manteiga', '~ Cerveja'}), confidence=1.0, lift=2.5), OrderedStatistic(items_base=frozenset({'Cafe', '~ Cerveja'}), items_add=frozenset({'Manteiga', 'Pao'}), confidence=1.0, lift=2.5), OrderedStatistic(items_base=frozenset({'Cafe', 'Manteiga', 'Pao'}), items_add=frozenset({'~ Cerveja'}), confidence=1.0, lift=1.25), OrderedStatistic(items_base=frozenset({'Cafe', 'Manteiga', '~ Cerveja'}), items_add=frozenset({'Pao'}), confidence=1.0, lift=2.0), OrderedStatistic(items_base=frozenset({'Cafe', 'Pao', '~ Cerveja'}), items_add=frozenset({'Manteiga'}), confidence=1.0, lift=2.0), OrderedStatistic(items_base=frozenset({'Manteiga', 'Pao', '~ Cerveja'}), items_add=frozenset({'Cafe'}), confidence=1.0, lift=3.3333333333333335)]), RelationRecord(items=frozenset({'Cafe', 'Manteiga', 'Pao', '~ Feijao'}), support=0.3, ordered_statistics=[OrderedStatistic(items_base=frozenset({'Cafe'}), items_add=frozenset({'Manteiga', 'Pao', '~ Feijao'}), confidence=1.0, lift=2.5), OrderedStatistic(items_base=frozenset({'Cafe', 'Manteiga'}), items_add=frozenset({'Pao', '~ Feijao'}), confidence=1.0, lift=2.0), OrderedStatistic(items_base=frozenset({'Cafe', 'Pao'}), items_add=frozenset({'Manteiga', '~ Feijao'}), confidence=1.0, lift=2.0), OrderedStatistic(items_base=frozenset({'Cafe', '~ Feijao'}), items_add=frozenset({'Manteiga', 'Pao'}), confidence=1.0, lift=2.5), OrderedStatistic(items_base=frozenset({'Cafe', 'Manteiga', 'Pao'}), items_add=frozenset({'~ Feijao'}), confidence=1.0, lift=1.25), OrderedStatistic(items_base=frozenset({'Cafe', 'Manteiga', '~ Feijao'}), items_add=frozenset({'Pao'}), confidence=1.0, lift=2.0), OrderedStatistic(items_base=frozenset({'Cafe', 'Pao', '~ Feijao'}), items_add=frozenset({'Manteiga'}), confidence=1.0, lift=2.0)]), RelationRecord(items=frozenset({'Cafe', 'Manteiga', '~ Cerveja', '~ Arroz'}), support=0.3, ordered_statistics=[OrderedStatistic(items_base=frozenset({'Cafe'}), items_add=frozenset({'Manteiga', '~ Cerveja', '~ Arroz'}), confidence=1.0, lift=2.5), OrderedStatistic(items_base=frozenset({'Cafe', 'Manteiga'}), items_add=frozenset({'~ Cerveja', '~ Arroz'}), confidence=1.0, lift=1.6666666666666667), OrderedStatistic(items_base=frozenset({'Cafe', '~ Arroz'}), items_add=frozenset({'Manteiga', '~ Cerveja'}), confidence=1.0, lift=2.5), OrderedStatistic(items_base=frozenset({'Cafe', '~ Cerveja'}), items_add=frozenset({'Manteiga', '~ Arroz'}), confidence=1.0, lift=2.0), OrderedStatistic(items_base=frozenset({'Cafe', 'Manteiga', '~ Arroz'}), items_add=frozenset({'~ Cerveja'}), confidence=1.0, lift=1.25), OrderedStatistic(items_base=frozenset({'Cafe', 'Manteiga', '~ Cerveja'}), items_add=frozenset({'~ Arroz'}), confidence=1.0, lift=1.25), OrderedStatistic(items_base=frozenset({'Cafe', '~ Cerveja', '~ Arroz'}), items_add=frozenset({'Manteiga'}), confidence=1.0, lift=2.0)]), RelationRecord(items=frozenset({'Cafe', 'Manteiga', '~ Feijao', '~ Arroz'}), support=0.3, ordered_statistics=[OrderedStatistic(items_base=frozenset({'Cafe'}), items_add=frozenset({'Manteiga', '~ Feijao', '~ Arroz'}), confidence=1.0, lift=2.0), OrderedStatistic(items_base=frozenset({'Cafe', 'Manteiga'}), items_add=frozenset({'~ Feijao', '~ Arroz'}), confidence=1.0, lift=1.4285714285714286), OrderedStatistic(items_base=frozenset({'Cafe', '~ Arroz'}), items_add=frozenset({'Manteiga', '~ Feijao'}), confidence=1.0, lift=2.0), OrderedStatistic(items_base=frozenset({'Cafe', '~ Feijao'}), items_add=frozenset({'Manteiga', '~ Arroz'}), confidence=1.0, lift=2.0), OrderedStatistic(items_base=frozenset({'Cafe', 'Manteiga', '~ Arroz'}), items_add=frozenset({'~ Feijao'}), confidence=1.0, lift=1.25), OrderedStatistic(items_base=frozenset({'Cafe', 'Manteiga', '~ Feijao'}), items_add=frozenset({'~ Arroz'}), confidence=1.0, lift=1.25), OrderedStatistic(items_base=frozenset({'Cafe', '~ Feijao', '~ Arroz'}), items_add=frozenset({'Manteiga'}), confidence=1.0, lift=2.0)]), RelationRecord(items=frozenset({'Cafe', 'Manteiga', '~ Feijao', '~ Cerveja'}), support=0.3, ordered_statistics=[OrderedStatistic(items_base=frozenset({'Cafe'}), items_add=frozenset({'Manteiga', '~ Feijao', '~ Cerveja'}), confidence=1.0, lift=2.5), OrderedStatistic(items_base=frozenset({'Cafe', 'Manteiga'}), items_add=frozenset({'~ Feijao', '~ Cerveja'}), confidence=1.0, lift=1.6666666666666667), OrderedStatistic(items_base=frozenset({'Cafe', '~ Cerveja'}), items_add=frozenset({'Manteiga', '~ Feijao'}), confidence=1.0, lift=2.0), OrderedStatistic(items_base=frozenset({'Cafe', '~ Feijao'}), items_add=frozenset({'Manteiga', '~ Cerveja'}), confidence=1.0, lift=2.5), OrderedStatistic(items_base=frozenset({'Cafe', 'Manteiga', '~ Cerveja'}), items_add=frozenset({'~ Feijao'}), confidence=1.0, lift=1.25), OrderedStatistic(items_base=frozenset({'Cafe', 'Manteiga', '~ Feijao'}), items_add=frozenset({'~ Cerveja'}), confidence=1.0, lift=1.25), OrderedStatistic(items_base=frozenset({'Cafe', '~ Feijao', '~ Cerveja'}), items_add=frozenset({'Manteiga'}), confidence=1.0, lift=2.0)]), RelationRecord(items=frozenset({'Cafe', 'Pao', '~ Cerveja', '~ Arroz'}), support=0.3, ordered_statistics=[OrderedStatistic(items_base=frozenset({'Cafe'}), items_add=frozenset({'Pao', '~ Cerveja', '~ Arroz'}), confidence=1.0, lift=2.5), OrderedStatistic(items_base=frozenset({'Cafe', 'Pao'}), items_add=frozenset({'~ Cerveja', '~ Arroz'}), confidence=1.0, lift=1.6666666666666667), OrderedStatistic(items_base=frozenset({'Cafe', '~ Arroz'}), items_add=frozenset({'Pao', '~ Cerveja'}), confidence=1.0, lift=2.5), OrderedStatistic(items_base=frozenset({'Cafe', '~ Cerveja'}), items_add=frozenset({'Pao', '~ Arroz'}), confidence=1.0, lift=2.0), OrderedStatistic(items_base=frozenset({'Cafe', 'Pao', '~ Arroz'}), items_add=frozenset({'~ Cerveja'}), confidence=1.0, lift=1.25), OrderedStatistic(items_base=frozenset({'Cafe', 'Pao', '~ Cerveja'}), items_add=frozenset({'~ Arroz'}), confidence=1.0, lift=1.25), OrderedStatistic(items_base=frozenset({'Cafe', '~ Cerveja', '~ Arroz'}), items_add=frozenset({'Pao'}), confidence=1.0, lift=2.0)]), RelationRecord(items=frozenset({'Cafe', 'Pao', '~ Feijao', '~ Arroz'}), support=0.3, ordered_statistics=[OrderedStatistic(items_base=frozenset({'Cafe'}), items_add=frozenset({'Pao', '~ Feijao', '~ Arroz'}), confidence=1.0, lift=2.0), OrderedStatistic(items_base=frozenset({'Cafe', 'Pao'}), items_add=frozenset({'~ Feijao', '~ Arroz'}), confidence=1.0, lift=1.4285714285714286), OrderedStatistic(items_base=frozenset({'Cafe', '~ Arroz'}), items_add=frozenset({'Pao', '~ Feijao'}), confidence=1.0, lift=2.0), OrderedStatistic(items_base=frozenset({'Cafe', '~ Feijao'}), items_add=frozenset({'Pao', '~ Arroz'}), confidence=1.0, lift=2.0), OrderedStatistic(items_base=frozenset({'Cafe', 'Pao', '~ Arroz'}), items_add=frozenset({'~ Feijao'}), confidence=1.0, lift=1.25), OrderedStatistic(items_base=frozenset({'Cafe', 'Pao', '~ Feijao'}), items_add=frozenset({'~ Arroz'}), confidence=1.0, lift=1.25), OrderedStatistic(items_base=frozenset({'Cafe', '~ Feijao', '~ Arroz'}), items_add=frozenset({'Pao'}), confidence=1.0, lift=2.0)]), RelationRecord(items=frozenset({'~ Feijao', 'Cafe', 'Pao', '~ Cerveja'}), support=0.3, ordered_statistics=[OrderedStatistic(items_base=frozenset({'Cafe'}), items_add=frozenset({'~ Feijao', '~ Cerveja', 'Pao'}), confidence=1.0, lift=2.5), OrderedStatistic(items_base=frozenset({'Cafe', 'Pao'}), items_add=frozenset({'~ Feijao', '~ Cerveja'}), confidence=1.0, lift=1.6666666666666667), OrderedStatistic(items_base=frozenset({'Cafe', '~ Cerveja'}), items_add=frozenset({'~ Feijao', 'Pao'}), confidence=1.0, lift=2.0), OrderedStatistic(items_base=frozenset({'Cafe', '~ Feijao'}), items_add=frozenset({'Pao', '~ Cerveja'}), confidence=1.0, lift=2.5), OrderedStatistic(items_base=frozenset({'Cafe', 'Pao', '~ Cerveja'}), items_add=frozenset({'~ Feijao'}), confidence=1.0, lift=1.25), OrderedStatistic(items_base=frozenset({'Cafe', 'Pao', '~ Feijao'}), items_add=frozenset({'~ Cerveja'}), confidence=1.0, lift=1.25), OrderedStatistic(items_base=frozenset({'Cafe', '~ Feijao', '~ Cerveja'}), items_add=frozenset({'Pao'}), confidence=1.0, lift=2.0)]), RelationRecord(items=frozenset({'Cafe', '~ Feijao', '~ Cerveja', '~ Arroz'}), support=0.3, ordered_statistics=[OrderedStatistic(items_base=frozenset({'Cafe'}), items_add=frozenset({'~ Feijao', '~ Cerveja', '~ Arroz'}), confidence=1.0, lift=2.0), OrderedStatistic(items_base=frozenset({'Cafe', '~ Arroz'}), items_add=frozenset({'~ Feijao', '~ Cerveja'}), confidence=1.0, lift=1.6666666666666667), OrderedStatistic(items_base=frozenset({'Cafe', '~ Cerveja'}), items_add=frozenset({'~ Feijao', '~ Arroz'}), confidence=1.0, lift=1.4285714285714286), OrderedStatistic(items_base=frozenset({'Cafe', '~ Feijao'}), items_add=frozenset({'~ Cerveja', '~ Arroz'}), confidence=1.0, lift=1.6666666666666667), OrderedStatistic(items_base=frozenset({'Cafe', '~ Cerveja', '~ Arroz'}), items_add=frozenset({'~ Feijao'}), confidence=1.0, lift=1.25), OrderedStatistic(items_base=frozenset({'Cafe', '~ Feijao', '~ Arroz'}), items_add=frozenset({'~ Cerveja'}), confidence=1.0, lift=1.25), OrderedStatistic(items_base=frozenset({'Cafe', '~ Feijao', '~ Cerveja'}), items_add=frozenset({'~ Arroz'}), confidence=1.0, lift=1.25)]), RelationRecord(items=frozenset({'Manteiga', 'Pao', '~ Cerveja', '~ Arroz'}), support=0.3, ordered_statistics=[OrderedStatistic(items_base=frozenset({'Manteiga', 'Pao', '~ Cerveja'}), items_add=frozenset({'~ Arroz'}), confidence=1.0, lift=1.25)]), RelationRecord(items=frozenset({'Manteiga', 'Pao', '~ Feijao', '~ Arroz'}), support=0.4, ordered_statistics=[OrderedStatistic(items_base=frozenset({'Manteiga'}), items_add=frozenset({'Pao', '~ Feijao', '~ Arroz'}), confidence=0.8, lift=1.6), OrderedStatistic(items_base=frozenset({'Pao'}), items_add=frozenset({'Manteiga', '~ Feijao', '~ Arroz'}), confidence=0.8, lift=1.6), OrderedStatistic(items_base=frozenset({'Manteiga', 'Pao'}), items_add=frozenset({'~ Feijao', '~ Arroz'}), confidence=1.0, lift=1.4285714285714286), OrderedStatistic(items_base=frozenset({'Manteiga', '~ Arroz'}), items_add=frozenset({'Pao', '~ Feijao'}), confidence=0.8, lift=1.6), OrderedStatistic(items_base=frozenset({'Manteiga', '~ Feijao'}), items_add=frozenset({'Pao', '~ Arroz'}), confidence=0.8, lift=1.6), OrderedStatistic(items_base=frozenset({'Pao', '~ Arroz'}), items_add=frozenset({'Manteiga', '~ Feijao'}), confidence=0.8, lift=1.6), OrderedStatistic(items_base=frozenset({'Pao', '~ Feijao'}), items_add=frozenset({'Manteiga', '~ Arroz'}), confidence=0.8, lift=1.6), OrderedStatistic(items_base=frozenset({'Manteiga', 'Pao', '~ Arroz'}), items_add=frozenset({'~ Feijao'}), confidence=1.0, lift=1.25), OrderedStatistic(items_base=frozenset({'Manteiga', 'Pao', '~ Feijao'}), items_add=frozenset({'~ Arroz'}), confidence=1.0, lift=1.25), OrderedStatistic(items_base=frozenset({'Manteiga', '~ Feijao', '~ Arroz'}), items_add=frozenset({'Pao'}), confidence=0.8, lift=1.6), OrderedStatistic(items_base=frozenset({'Pao', '~ Feijao', '~ Arroz'}), items_add=frozenset({'Manteiga'}), confidence=0.8, lift=1.6)]), RelationRecord(items=frozenset({'~ Feijao', 'Manteiga', 'Pao', '~ Cerveja'}), support=0.3, ordered_statistics=[OrderedStatistic(items_base=frozenset({'Manteiga', 'Pao', '~ Cerveja'}), items_add=frozenset({'~ Feijao'}), confidence=1.0, lift=1.25)]), RelationRecord(items=frozenset({'Manteiga', '~ Feijao', '~ Cerveja', '~ Arroz'}), support=0.4, ordered_statistics=[OrderedStatistic(items_base=frozenset({'Manteiga'}), items_add=frozenset({'~ Feijao', '~ Cerveja', '~ Arroz'}), confidence=0.8, lift=1.6), OrderedStatistic(items_base=frozenset({'Manteiga', '~ Arroz'}), items_add=frozenset({'~ Feijao', '~ Cerveja'}), confidence=0.8, lift=1.3333333333333335), OrderedStatistic(items_base=frozenset({'Manteiga', '~ Cerveja'}), items_add=frozenset({'~ Feijao', '~ Arroz'}), confidence=1.0, lift=1.4285714285714286), OrderedStatistic(items_base=frozenset({'Manteiga', '~ Feijao'}), items_add=frozenset({'~ Cerveja', '~ Arroz'}), confidence=0.8, lift=1.3333333333333335), OrderedStatistic(items_base=frozenset({'Manteiga', '~ Cerveja', '~ Arroz'}), items_add=frozenset({'~ Feijao'}), confidence=1.0, lift=1.25), OrderedStatistic(items_base=frozenset({'Manteiga', '~ Feijao', '~ Arroz'}), items_add=frozenset({'~ Cerveja'}), confidence=0.8, lift=1.0), OrderedStatistic(items_base=frozenset({'Manteiga', '~ Feijao', '~ Cerveja'}), items_add=frozenset({'~ Arroz'}), confidence=1.0, lift=1.25), OrderedStatistic(items_base=frozenset({'~ Feijao', '~ Cerveja', '~ Arroz'}), items_add=frozenset({'Manteiga'}), confidence=0.8, lift=1.6)]), RelationRecord(items=frozenset({'Manteiga', '~Leite', '~ Cerveja', '~ Arroz'}), support=0.3, ordered_statistics=[OrderedStatistic(items_base=frozenset({'Manteiga', '~Leite'}), items_add=frozenset({'~ Cerveja', '~ Arroz'}), confidence=1.0, lift=1.6666666666666667), OrderedStatistic(items_base=frozenset({'Manteiga', '~Leite', '~ Arroz'}), items_add=frozenset({'~ Cerveja'}), confidence=1.0, lift=1.25), OrderedStatistic(items_base=frozenset({'Manteiga', '~ Cerveja', '~Leite'}), items_add=frozenset({'~ Arroz'}), confidence=1.0, lift=1.25)]), RelationRecord(items=frozenset({'Manteiga', '~ Feijao', '~Leite', '~ Arroz'}), support=0.3, ordered_statistics=[OrderedStatistic(items_base=frozenset({'Manteiga', '~Leite'}), items_add=frozenset({'~ Feijao', '~ Arroz'}), confidence=1.0, lift=1.4285714285714286), OrderedStatistic(items_base=frozenset({'Manteiga', '~Leite', '~ Arroz'}), items_add=frozenset({'~ Feijao'}), confidence=1.0, lift=1.25), OrderedStatistic(items_base=frozenset({'Manteiga', '~ Feijao', '~Leite'}), items_add=frozenset({'~ Arroz'}), confidence=1.0, lift=1.25)]), RelationRecord(items=frozenset({'Manteiga', '~ Feijao', '~ Cerveja', '~Leite'}), support=0.3, ordered_statistics=[OrderedStatistic(items_base=frozenset({'Manteiga', '~Leite'}), items_add=frozenset({'~ Feijao', '~ Cerveja'}), confidence=1.0, lift=1.6666666666666667), OrderedStatistic(items_base=frozenset({'Manteiga', '~ Cerveja', '~Leite'}), items_add=frozenset({'~ Feijao'}), confidence=1.0, lift=1.25), OrderedStatistic(items_base=frozenset({'Manteiga', '~ Feijao', '~Leite'}), items_add=frozenset({'~ Cerveja'}), confidence=1.0, lift=1.25)]), RelationRecord(items=frozenset({'~ Feijao', 'Pao', '~ Cerveja', '~ Arroz'}), support=0.4, ordered_statistics=[OrderedStatistic(items_base=frozenset({'Pao'}), items_add=frozenset({'~ Feijao', '~ Cerveja', '~ Arroz'}), confidence=0.8, lift=1.6), OrderedStatistic(items_base=frozenset({'Pao', '~ Arroz'}), items_add=frozenset({'~ Feijao', '~ Cerveja'}), confidence=0.8, lift=1.3333333333333335), OrderedStatistic(items_base=frozenset({'Pao', '~ Cerveja'}), items_add=frozenset({'~ Feijao', '~ Arroz'}), confidence=1.0, lift=1.4285714285714286), OrderedStatistic(items_base=frozenset({'Pao', '~ Feijao'}), items_add=frozenset({'~ Cerveja', '~ Arroz'}), confidence=0.8, lift=1.3333333333333335), OrderedStatistic(items_base=frozenset({'Pao', '~ Cerveja', '~ Arroz'}), items_add=frozenset({'~ Feijao'}), confidence=1.0, lift=1.25), OrderedStatistic(items_base=frozenset({'Pao', '~ Feijao', '~ Arroz'}), items_add=frozenset({'~ Cerveja'}), confidence=0.8, lift=1.0), OrderedStatistic(items_base=frozenset({'~ Feijao', 'Pao', '~ Cerveja'}), items_add=frozenset({'~ Arroz'}), confidence=1.0, lift=1.25), OrderedStatistic(items_base=frozenset({'~ Feijao', '~ Cerveja', '~ Arroz'}), items_add=frozenset({'Pao'}), confidence=0.8, lift=1.6)]), RelationRecord(items=frozenset({'Pao', '~ Cerveja', '~Leite', '~ Arroz'}), support=0.3, ordered_statistics=[OrderedStatistic(items_base=frozenset({'Pao', '~Leite'}), items_add=frozenset({'~ Cerveja', '~ Arroz'}), confidence=1.0, lift=1.6666666666666667), OrderedStatistic(items_base=frozenset({'Pao', '~Leite', '~ Arroz'}), items_add=frozenset({'~ Cerveja'}), confidence=1.0, lift=1.25), OrderedStatistic(items_base=frozenset({'Pao', '~ Cerveja', '~Leite'}), items_add=frozenset({'~ Arroz'}), confidence=1.0, lift=1.25)]), RelationRecord(items=frozenset({'Pao', '~ Feijao', '~Leite', '~ Arroz'}), support=0.3, ordered_statistics=[OrderedStatistic(items_base=frozenset({'Pao', '~Leite'}), items_add=frozenset({'~ Feijao', '~ Arroz'}), confidence=1.0, lift=1.4285714285714286), OrderedStatistic(items_base=frozenset({'Pao', '~Leite', '~ Arroz'}), items_add=frozenset({'~ Feijao'}), confidence=1.0, lift=1.25), OrderedStatistic(items_base=frozenset({'Pao', '~ Feijao', '~Leite'}), items_add=frozenset({'~ Arroz'}), confidence=1.0, lift=1.25)]), RelationRecord(items=frozenset({'~ Feijao', 'Pao', '~ Cerveja', '~Leite'}), support=0.3, ordered_statistics=[OrderedStatistic(items_base=frozenset({'Pao', '~Leite'}), items_add=frozenset({'~ Feijao', '~ Cerveja'}), confidence=1.0, lift=1.6666666666666667), OrderedStatistic(items_base=frozenset({'Pao', '~ Cerveja', '~Leite'}), items_add=frozenset({'~ Feijao'}), confidence=1.0, lift=1.25), OrderedStatistic(items_base=frozenset({'Pao', '~ Feijao', '~Leite'}), items_add=frozenset({'~ Cerveja'}), confidence=1.0, lift=1.25)]), RelationRecord(items=frozenset({'~Leite', '~ Cafe', '~ Cerveja', '~ Arroz'}), support=0.3, ordered_statistics=[OrderedStatistic(items_base=frozenset({'~ Cafe', '~ Cerveja', '~ Arroz'}), items_add=frozenset({'~Leite'}), confidence=1.0, lift=1.25)]), RelationRecord(items=frozenset({'~Leite', '~ Cafe', '~ Pao', '~ Arroz'}), support=0.3, ordered_statistics=[OrderedStatistic(items_base=frozenset({'~ Pao', '~ Arroz'}), items_add=frozenset({'~ Cafe', '~Leite'}), confidence=1.0, lift=1.6666666666666667), OrderedStatistic(items_base=frozenset({'~ Cafe', '~ Pao', '~ Arroz'}), items_add=frozenset({'~Leite'}), confidence=1.0, lift=1.25), OrderedStatistic(items_base=frozenset({'~Leite', '~ Pao', '~ Arroz'}), items_add=frozenset({'~ Cafe'}), confidence=1.0, lift=1.4285714285714286)]), RelationRecord(items=frozenset({'~Manteiga', '~Leite', '~ Cafe', '~ Arroz'}), support=0.3, ordered_statistics=[OrderedStatistic(items_base=frozenset({'~Manteiga', '~ Arroz'}), items_add=frozenset({'~ Cafe', '~Leite'}), confidence=1.0, lift=1.6666666666666667), OrderedStatistic(items_base=frozenset({'~Manteiga', '~ Cafe', '~ Arroz'}), items_add=frozenset({'~Leite'}), confidence=1.0, lift=1.25), OrderedStatistic(items_base=frozenset({'~Manteiga', '~Leite', '~ Arroz'}), items_add=frozenset({'~ Cafe'}), confidence=1.0, lift=1.4285714285714286)]), RelationRecord(items=frozenset({'~ Feijao', '~ Cerveja', '~Leite', '~ Arroz'}), support=0.4, ordered_statistics=[OrderedStatistic(items_base=frozenset({'~ Feijao', '~ Cerveja', '~ Arroz'}), items_add=frozenset({'~Leite'}), confidence=0.8, lift=1.0), OrderedStatistic(items_base=frozenset({'~Leite', '~ Cerveja', '~ Arroz'}), items_add=frozenset({'~ Feijao'}), confidence=0.8, lift=1.0), OrderedStatistic(items_base=frozenset({'~ Feijao', '~Leite', '~ Arroz'}), items_add=frozenset({'~ Cerveja'}), confidence=0.8, lift=1.0), OrderedStatistic(items_base=frozenset({'~ Feijao', '~ Cerveja', '~Leite'}), items_add=frozenset({'~ Arroz'}), confidence=0.8, lift=1.0)]), RelationRecord(items=frozenset({'~ Feijao', '~ Cafe', '~ Cerveja', '~Leite'}), support=0.3, ordered_statistics=[OrderedStatistic(items_base=frozenset({'~ Feijao', '~ Cafe', '~ Cerveja'}), items_add=frozenset({'~Leite'}), confidence=1.0, lift=1.25)]), RelationRecord(items=frozenset({'~ Cafe', '~ Cerveja', '~ Pao', '~Leite'}), support=0.4, ordered_statistics=[OrderedStatistic(items_base=frozenset({'~ Pao'}), items_add=frozenset({'~ Cafe', '~ Cerveja', '~Leite'}), confidence=0.8, lift=1.6), OrderedStatistic(items_base=frozenset({'~ Cafe', '~ Cerveja'}), items_add=frozenset({'~ Pao', '~Leite'}), confidence=0.8, lift=1.6), OrderedStatistic(items_base=frozenset({'~ Cafe', '~ Pao'}), items_add=frozenset({'~ Cerveja', '~Leite'}), confidence=0.8, lift=1.142857142857143), OrderedStatistic(items_base=frozenset({'~ Cerveja', '~ Pao'}), items_add=frozenset({'~ Cafe', '~Leite'}), confidence=1.0, lift=1.6666666666666667), OrderedStatistic(items_base=frozenset({'~ Pao', '~Leite'}), items_add=frozenset({'~ Cafe', '~ Cerveja'}), confidence=0.8, lift=1.6), OrderedStatistic(items_base=frozenset({'~ Cafe', '~ Cerveja', '~ Pao'}), items_add=frozenset({'~Leite'}), confidence=1.0, lift=1.25), OrderedStatistic(items_base=frozenset({'~ Cafe', '~ Cerveja', '~Leite'}), items_add=frozenset({'~ Pao'}), confidence=0.8, lift=1.6), OrderedStatistic(items_base=frozenset({'~ Cafe', '~ Pao', '~Leite'}), items_add=frozenset({'~ Cerveja'}), confidence=0.8, lift=1.0), OrderedStatistic(items_base=frozenset({'~ Cerveja', '~ Pao', '~Leite'}), items_add=frozenset({'~ Cafe'}), confidence=1.0, lift=1.4285714285714286)]), RelationRecord(items=frozenset({'~ Cafe', '~ Cerveja', '~ Pao', '~Manteiga'}), support=0.3, ordered_statistics=[OrderedStatistic(items_base=frozenset({'~ Cerveja', '~ Pao', '~Manteiga'}), items_add=frozenset({'~ Cafe'}), confidence=1.0, lift=1.4285714285714286)]), RelationRecord(items=frozenset({'~Manteiga', '~ Cafe', '~ Cerveja', '~Leite'}), support=0.4, ordered_statistics=[OrderedStatistic(items_base=frozenset({'~Manteiga'}), items_add=frozenset({'~ Cafe', '~ Cerveja', '~Leite'}), confidence=0.8, lift=1.6), OrderedStatistic(items_base=frozenset({'~ Cafe', '~ Cerveja'}), items_add=frozenset({'~Leite', '~Manteiga'}), confidence=0.8, lift=1.6), OrderedStatistic(items_base=frozenset({'~ Cafe', '~Manteiga'}), items_add=frozenset({'~ Cerveja', '~Leite'}), confidence=0.8, lift=1.142857142857143), OrderedStatistic(items_base=frozenset({'~ Cerveja', '~Manteiga'}), items_add=frozenset({'~ Cafe', '~Leite'}), confidence=1.0, lift=1.6666666666666667), OrderedStatistic(items_base=frozenset({'~Manteiga', '~Leite'}), items_add=frozenset({'~ Cafe', '~ Cerveja'}), confidence=0.8, lift=1.6), OrderedStatistic(items_base=frozenset({'~ Cafe', '~ Cerveja', '~Leite'}), items_add=frozenset({'~Manteiga'}), confidence=0.8, lift=1.6), OrderedStatistic(items_base=frozenset({'~ Cafe', '~ Cerveja', '~Manteiga'}), items_add=frozenset({'~Leite'}), confidence=1.0, lift=1.25), OrderedStatistic(items_base=frozenset({'~Manteiga', '~ Cafe', '~Leite'}), items_add=frozenset({'~ Cerveja'}), confidence=0.8, lift=1.0), OrderedStatistic(items_base=frozenset({'~Manteiga', '~ Cerveja', '~Leite'}), items_add=frozenset({'~ Cafe'}), confidence=1.0, lift=1.4285714285714286)]), RelationRecord(items=frozenset({'~ Feijao', '~ Cafe', '~ Pao', '~Leite'}), support=0.3, ordered_statistics=[OrderedStatistic(items_base=frozenset({'~ Feijao', '~ Pao'}), items_add=frozenset({'~ Cafe', '~Leite'}), confidence=1.0, lift=1.6666666666666667), OrderedStatistic(items_base=frozenset({'~ Feijao', '~ Cafe', '~ Pao'}), items_add=frozenset({'~Leite'}), confidence=1.0, lift=1.25), OrderedStatistic(items_base=frozenset({'~ Feijao', '~ Pao', '~Leite'}), items_add=frozenset({'~ Cafe'}), confidence=1.0, lift=1.4285714285714286)]), RelationRecord(items=frozenset({'~Manteiga', '~ Feijao', '~ Cafe', '~Leite'}), support=0.3, ordered_statistics=[OrderedStatistic(items_base=frozenset({'~ Feijao', '~Manteiga'}), items_add=frozenset({'~ Cafe', '~Leite'}), confidence=1.0, lift=1.6666666666666667), OrderedStatistic(items_base=frozenset({'~ Feijao', '~ Cafe', '~Manteiga'}), items_add=frozenset({'~Leite'}), confidence=1.0, lift=1.25), OrderedStatistic(items_base=frozenset({'~Manteiga', '~ Feijao', '~Leite'}), items_add=frozenset({'~ Cafe'}), confidence=1.0, lift=1.4285714285714286)]), RelationRecord(items=frozenset({'~Manteiga', '~ Cafe', '~ Pao', '~Leite'}), support=0.4, ordered_statistics=[OrderedStatistic(items_base=frozenset({'~ Pao'}), items_add=frozenset({'~Leite', '~ Cafe', '~Manteiga'}), confidence=0.8, lift=1.6), OrderedStatistic(items_base=frozenset({'~Manteiga'}), items_add=frozenset({'~ Cafe', '~ Pao', '~Leite'}), confidence=0.8, lift=1.6), OrderedStatistic(items_base=frozenset({'~ Cafe', '~ Pao'}), items_add=frozenset({'~Leite', '~Manteiga'}), confidence=0.8, lift=1.6), OrderedStatistic(items_base=frozenset({'~ Cafe', '~Manteiga'}), items_add=frozenset({'~ Pao', '~Leite'}), confidence=0.8, lift=1.6), OrderedStatistic(items_base=frozenset({'~ Pao', '~Leite'}), items_add=frozenset({'~ Cafe', '~Manteiga'}), confidence=0.8, lift=1.6), OrderedStatistic(items_base=frozenset({'~ Pao', '~Manteiga'}), items_add=frozenset({'~ Cafe', '~Leite'}), confidence=1.0, lift=1.6666666666666667), OrderedStatistic(items_base=frozenset({'~Manteiga', '~Leite'}), items_add=frozenset({'~ Cafe', '~ Pao'}), confidence=0.8, lift=1.6), OrderedStatistic(items_base=frozenset({'~ Cafe', '~ Pao', '~Leite'}), items_add=frozenset({'~Manteiga'}), confidence=0.8, lift=1.6), OrderedStatistic(items_base=frozenset({'~ Cafe', '~ Pao', '~Manteiga'}), items_add=frozenset({'~Leite'}), confidence=1.0, lift=1.25), OrderedStatistic(items_base=frozenset({'~Manteiga', '~ Cafe', '~Leite'}), items_add=frozenset({'~ Pao'}), confidence=0.8, lift=1.6), OrderedStatistic(items_base=frozenset({'~Manteiga', '~ Pao', '~Leite'}), items_add=frozenset({'~ Cafe'}), confidence=1.0, lift=1.4285714285714286)]), RelationRecord(items=frozenset({'~Manteiga', '~ Cerveja', '~ Pao', '~Leite'}), support=0.3, ordered_statistics=[OrderedStatistic(items_base=frozenset({'~ Cerveja', '~ Pao', '~Manteiga'}), items_add=frozenset({'~Leite'}), confidence=1.0, lift=1.25)]), RelationRecord(items=frozenset({'Manteiga', 'Pao', '~ Arroz', 'Cafe', '~ Cerveja'}), support=0.3, ordered_statistics=[OrderedStatistic(items_base=frozenset({'Cafe'}), items_add=frozenset({'Manteiga', 'Pao', '~ Cerveja', '~ Arroz'}), confidence=1.0, lift=3.3333333333333335), OrderedStatistic(items_base=frozenset({'Cafe', 'Manteiga'}), items_add=frozenset({'Pao', '~ Cerveja', '~ Arroz'}), confidence=1.0, lift=2.5), OrderedStatistic(items_base=frozenset({'Cafe', 'Pao'}), items_add=frozenset({'Manteiga', '~ Cerveja', '~ Arroz'}), confidence=1.0, lift=2.5), OrderedStatistic(items_base=frozenset({'Cafe', '~ Arroz'}), items_add=frozenset({'Manteiga', 'Pao', '~ Cerveja'}), confidence=1.0, lift=3.3333333333333335), OrderedStatistic(items_base=frozenset({'Cafe', '~ Cerveja'}), items_add=frozenset({'Manteiga', 'Pao', '~ Arroz'}), confidence=1.0, lift=2.5), OrderedStatistic(items_base=frozenset({'Cafe', 'Manteiga', 'Pao'}), items_add=frozenset({'~ Cerveja', '~ Arroz'}), confidence=1.0, lift=1.6666666666666667), OrderedStatistic(items_base=frozenset({'Cafe', 'Manteiga', '~ Arroz'}), items_add=frozenset({'Pao', '~ Cerveja'}), confidence=1.0, lift=2.5), OrderedStatistic(items_base=frozenset({'Cafe', 'Manteiga', '~ Cerveja'}), items_add=frozenset({'Pao', '~ Arroz'}), confidence=1.0, lift=2.0), OrderedStatistic(items_base=frozenset({'Cafe', 'Pao', '~ Arroz'}), items_add=frozenset({'Manteiga', '~ Cerveja'}), confidence=1.0, lift=2.5), OrderedStatistic(items_base=frozenset({'Cafe', 'Pao', '~ Cerveja'}), items_add=frozenset({'Manteiga', '~ Arroz'}), confidence=1.0, lift=2.0), OrderedStatistic(items_base=frozenset({'Cafe', '~ Cerveja', '~ Arroz'}), items_add=frozenset({'Manteiga', 'Pao'}), confidence=1.0, lift=2.5), OrderedStatistic(items_base=frozenset({'Manteiga', 'Pao', '~ Cerveja'}), items_add=frozenset({'Cafe', '~ Arroz'}), confidence=1.0, lift=3.3333333333333335), OrderedStatistic(items_base=frozenset({'Cafe', 'Manteiga', 'Pao', '~ Arroz'}), items_add=frozenset({'~ Cerveja'}), confidence=1.0, lift=1.25), OrderedStatistic(items_base=frozenset({'Cafe', 'Manteiga', 'Pao', '~ Cerveja'}), items_add=frozenset({'~ Arroz'}), confidence=1.0, lift=1.25), OrderedStatistic(items_base=frozenset({'Cafe', 'Manteiga', '~ Cerveja', '~ Arroz'}), items_add=frozenset({'Pao'}), confidence=1.0, lift=2.0), OrderedStatistic(items_base=frozenset({'Cafe', 'Pao', '~ Cerveja', '~ Arroz'}), items_add=frozenset({'Manteiga'}), confidence=1.0, lift=2.0), OrderedStatistic(items_base=frozenset({'Manteiga', 'Pao', '~ Cerveja', '~ Arroz'}), items_add=frozenset({'Cafe'}), confidence=1.0, lift=3.3333333333333335)]), RelationRecord(items=frozenset({'Manteiga', 'Pao', '~ Arroz', 'Cafe', '~ Feijao'}), support=0.3, ordered_statistics=[OrderedStatistic(items_base=frozenset({'Cafe'}), items_add=frozenset({'Manteiga', 'Pao', '~ Feijao', '~ Arroz'}), confidence=1.0, lift=2.5), OrderedStatistic(items_base=frozenset({'Cafe', 'Manteiga'}), items_add=frozenset({'Pao', '~ Feijao', '~ Arroz'}), confidence=1.0, lift=2.0), OrderedStatistic(items_base=frozenset({'Cafe', 'Pao'}), items_add=frozenset({'Manteiga', '~ Feijao', '~ Arroz'}), confidence=1.0, lift=2.0), OrderedStatistic(items_base=frozenset({'Cafe', '~ Arroz'}), items_add=frozenset({'Manteiga', 'Pao', '~ Feijao'}), confidence=1.0, lift=2.5), OrderedStatistic(items_base=frozenset({'Cafe', '~ Feijao'}), items_add=frozenset({'Manteiga', 'Pao', '~ Arroz'}), confidence=1.0, lift=2.5), OrderedStatistic(items_base=frozenset({'Cafe', 'Manteiga', 'Pao'}), items_add=frozenset({'~ Feijao', '~ Arroz'}), confidence=1.0, lift=1.4285714285714286), OrderedStatistic(items_base=frozenset({'Cafe', 'Manteiga', '~ Arroz'}), items_add=frozenset({'Pao', '~ Feijao'}), confidence=1.0, lift=2.0), OrderedStatistic(items_base=frozenset({'Cafe', 'Manteiga', '~ Feijao'}), items_add=frozenset({'Pao', '~ Arroz'}), confidence=1.0, lift=2.0), OrderedStatistic(items_base=frozenset({'Cafe', 'Pao', '~ Arroz'}), items_add=frozenset({'Manteiga', '~ Feijao'}), confidence=1.0, lift=2.0), OrderedStatistic(items_base=frozenset({'Cafe', 'Pao', '~ Feijao'}), items_add=frozenset({'Manteiga', '~ Arroz'}), confidence=1.0, lift=2.0), OrderedStatistic(items_base=frozenset({'Cafe', '~ Feijao', '~ Arroz'}), items_add=frozenset({'Manteiga', 'Pao'}), confidence=1.0, lift=2.5), OrderedStatistic(items_base=frozenset({'Cafe', 'Manteiga', 'Pao', '~ Arroz'}), items_add=frozenset({'~ Feijao'}), confidence=1.0, lift=1.25), OrderedStatistic(items_base=frozenset({'Cafe', 'Manteiga', 'Pao', '~ Feijao'}), items_add=frozenset({'~ Arroz'}), confidence=1.0, lift=1.25), OrderedStatistic(items_base=frozenset({'Cafe', 'Manteiga', '~ Feijao', '~ Arroz'}), items_add=frozenset({'Pao'}), confidence=1.0, lift=2.0), OrderedStatistic(items_base=frozenset({'Cafe', 'Pao', '~ Feijao', '~ Arroz'}), items_add=frozenset({'Manteiga'}), confidence=1.0, lift=2.0)]), RelationRecord(items=frozenset({'Manteiga', 'Pao', 'Cafe', '~ Feijao', '~ Cerveja'}), support=0.3, ordered_statistics=[OrderedStatistic(items_base=frozenset({'Cafe'}), items_add=frozenset({'Manteiga', 'Pao', '~ Feijao', '~ Cerveja'}), confidence=1.0, lift=3.3333333333333335), OrderedStatistic(items_base=frozenset({'Cafe', 'Manteiga'}), items_add=frozenset({'Pao', '~ Feijao', '~ Cerveja'}), confidence=1.0, lift=2.5), OrderedStatistic(items_base=frozenset({'Cafe', 'Pao'}), items_add=frozenset({'Manteiga', '~ Feijao', '~ Cerveja'}), confidence=1.0, lift=2.5), OrderedStatistic(items_base=frozenset({'Cafe', '~ Cerveja'}), items_add=frozenset({'Manteiga', 'Pao', '~ Feijao'}), confidence=1.0, lift=2.5), OrderedStatistic(items_base=frozenset({'Cafe', '~ Feijao'}), items_add=frozenset({'Manteiga', 'Pao', '~ Cerveja'}), confidence=1.0, lift=3.3333333333333335), OrderedStatistic(items_base=frozenset({'Cafe', 'Manteiga', 'Pao'}), items_add=frozenset({'~ Feijao', '~ Cerveja'}), confidence=1.0, lift=1.6666666666666667), OrderedStatistic(items_base=frozenset({'Cafe', 'Manteiga', '~ Cerveja'}), items_add=frozenset({'Pao', '~ Feijao'}), confidence=1.0, lift=2.0), OrderedStatistic(items_base=frozenset({'Cafe', 'Manteiga', '~ Feijao'}), items_add=frozenset({'Pao', '~ Cerveja'}), confidence=1.0, lift=2.5), OrderedStatistic(items_base=frozenset({'Cafe', 'Pao', '~ Cerveja'}), items_add=frozenset({'Manteiga', '~ Feijao'}), confidence=1.0, lift=2.0), OrderedStatistic(items_base=frozenset({'Cafe', 'Pao', '~ Feijao'}), items_add=frozenset({'Manteiga', '~ Cerveja'}), confidence=1.0, lift=2.5), OrderedStatistic(items_base=frozenset({'Cafe', '~ Feijao', '~ Cerveja'}), items_add=frozenset({'Manteiga', 'Pao'}), confidence=1.0, lift=2.5), OrderedStatistic(items_base=frozenset({'Manteiga', 'Pao', '~ Cerveja'}), items_add=frozenset({'Cafe', '~ Feijao'}), confidence=1.0, lift=3.3333333333333335), OrderedStatistic(items_base=frozenset({'Cafe', 'Manteiga', 'Pao', '~ Cerveja'}), items_add=frozenset({'~ Feijao'}), confidence=1.0, lift=1.25), OrderedStatistic(items_base=frozenset({'Cafe', 'Manteiga', 'Pao', '~ Feijao'}), items_add=frozenset({'~ Cerveja'}), confidence=1.0, lift=1.25), OrderedStatistic(items_base=frozenset({'Cafe', 'Manteiga', '~ Feijao', '~ Cerveja'}), items_add=frozenset({'Pao'}), confidence=1.0, lift=2.0), OrderedStatistic(items_base=frozenset({'~ Feijao', 'Cafe', 'Pao', '~ Cerveja'}), items_add=frozenset({'Manteiga'}), confidence=1.0, lift=2.0), OrderedStatistic(items_base=frozenset({'~ Feijao', 'Manteiga', 'Pao', '~ Cerveja'}), items_add=frozenset({'Cafe'}), confidence=1.0, lift=3.3333333333333335)]), RelationRecord(items=frozenset({'Manteiga', '~ Arroz', 'Cafe', '~ Feijao', '~ Cerveja'}), support=0.3, ordered_statistics=[OrderedStatistic(items_base=frozenset({'Cafe'}), items_add=frozenset({'Manteiga', '~ Feijao', '~ Cerveja', '~ Arroz'}), confidence=1.0, lift=2.5), OrderedStatistic(items_base=frozenset({'Cafe', 'Manteiga'}), items_add=frozenset({'~ Feijao', '~ Cerveja', '~ Arroz'}), confidence=1.0, lift=2.0), OrderedStatistic(items_base=frozenset({'Cafe', '~ Arroz'}), items_add=frozenset({'Manteiga', '~ Feijao', '~ Cerveja'}), confidence=1.0, lift=2.5), OrderedStatistic(items_base=frozenset({'Cafe', '~ Cerveja'}), items_add=frozenset({'Manteiga', '~ Feijao', '~ Arroz'}), confidence=1.0, lift=2.0), OrderedStatistic(items_base=frozenset({'Cafe', '~ Feijao'}), items_add=frozenset({'Manteiga', '~ Cerveja', '~ Arroz'}), confidence=1.0, lift=2.5), OrderedStatistic(items_base=frozenset({'Cafe', 'Manteiga', '~ Arroz'}), items_add=frozenset({'~ Feijao', '~ Cerveja'}), confidence=1.0, lift=1.6666666666666667), OrderedStatistic(items_base=frozenset({'Cafe', 'Manteiga', '~ Cerveja'}), items_add=frozenset({'~ Feijao', '~ Arroz'}), confidence=1.0, lift=1.4285714285714286), OrderedStatistic(items_base=frozenset({'Cafe', 'Manteiga', '~ Feijao'}), items_add=frozenset({'~ Cerveja', '~ Arroz'}), confidence=1.0, lift=1.6666666666666667), OrderedStatistic(items_base=frozenset({'Cafe', '~ Cerveja', '~ Arroz'}), items_add=frozenset({'Manteiga', '~ Feijao'}), confidence=1.0, lift=2.0), OrderedStatistic(items_base=frozenset({'Cafe', '~ Feijao', '~ Arroz'}), items_add=frozenset({'Manteiga', '~ Cerveja'}), confidence=1.0, lift=2.5), OrderedStatistic(items_base=frozenset({'Cafe', '~ Feijao', '~ Cerveja'}), items_add=frozenset({'Manteiga', '~ Arroz'}), confidence=1.0, lift=2.0), OrderedStatistic(items_base=frozenset({'Cafe', 'Manteiga', '~ Cerveja', '~ Arroz'}), items_add=frozenset({'~ Feijao'}), confidence=1.0, lift=1.25), OrderedStatistic(items_base=frozenset({'Cafe', 'Manteiga', '~ Feijao', '~ Arroz'}), items_add=frozenset({'~ Cerveja'}), confidence=1.0, lift=1.25), OrderedStatistic(items_base=frozenset({'Cafe', 'Manteiga', '~ Feijao', '~ Cerveja'}), items_add=frozenset({'~ Arroz'}), confidence=1.0, lift=1.25), OrderedStatistic(items_base=frozenset({'Cafe', '~ Feijao', '~ Cerveja', '~ Arroz'}), items_add=frozenset({'Manteiga'}), confidence=1.0, lift=2.0)]), RelationRecord(items=frozenset({'Pao', '~ Arroz', 'Cafe', '~ Feijao', '~ Cerveja'}), support=0.3, ordered_statistics=[OrderedStatistic(items_base=frozenset({'Cafe'}), items_add=frozenset({'Pao', '~ Feijao', '~ Cerveja', '~ Arroz'}), confidence=1.0, lift=2.5), OrderedStatistic(items_base=frozenset({'Cafe', 'Pao'}), items_add=frozenset({'~ Feijao', '~ Cerveja', '~ Arroz'}), confidence=1.0, lift=2.0), OrderedStatistic(items_base=frozenset({'Cafe', '~ Arroz'}), items_add=frozenset({'Pao', '~ Feijao', '~ Cerveja'}), confidence=1.0, lift=2.5), OrderedStatistic(items_base=frozenset({'Cafe', '~ Cerveja'}), items_add=frozenset({'Pao', '~ Feijao', '~ Arroz'}), confidence=1.0, lift=2.0), OrderedStatistic(items_base=frozenset({'Cafe', '~ Feijao'}), items_add=frozenset({'Pao', '~ Cerveja', '~ Arroz'}), confidence=1.0, lift=2.5), OrderedStatistic(items_base=frozenset({'Cafe', 'Pao', '~ Arroz'}), items_add=frozenset({'~ Feijao', '~ Cerveja'}), confidence=1.0, lift=1.6666666666666667), OrderedStatistic(items_base=frozenset({'Cafe', 'Pao', '~ Cerveja'}), items_add=frozenset({'~ Feijao', '~ Arroz'}), confidence=1.0, lift=1.4285714285714286), OrderedStatistic(items_base=frozenset({'Cafe', 'Pao', '~ Feijao'}), items_add=frozenset({'~ Cerveja', '~ Arroz'}), confidence=1.0, lift=1.6666666666666667), OrderedStatistic(items_base=frozenset({'Cafe', '~ Cerveja', '~ Arroz'}), items_add=frozenset({'Pao', '~ Feijao'}), confidence=1.0, lift=2.0), OrderedStatistic(items_base=frozenset({'Cafe', '~ Feijao', '~ Arroz'}), items_add=frozenset({'Pao', '~ Cerveja'}), confidence=1.0, lift=2.5), OrderedStatistic(items_base=frozenset({'Cafe', '~ Feijao', '~ Cerveja'}), items_add=frozenset({'Pao', '~ Arroz'}), confidence=1.0, lift=2.0), OrderedStatistic(items_base=frozenset({'Cafe', 'Pao', '~ Cerveja', '~ Arroz'}), items_add=frozenset({'~ Feijao'}), confidence=1.0, lift=1.25), OrderedStatistic(items_base=frozenset({'Cafe', 'Pao', '~ Feijao', '~ Arroz'}), items_add=frozenset({'~ Cerveja'}), confidence=1.0, lift=1.25), OrderedStatistic(items_base=frozenset({'~ Feijao', 'Cafe', 'Pao', '~ Cerveja'}), items_add=frozenset({'~ Arroz'}), confidence=1.0, lift=1.25), OrderedStatistic(items_base=frozenset({'Cafe', '~ Feijao', '~ Cerveja', '~ Arroz'}), items_add=frozenset({'Pao'}), confidence=1.0, lift=2.0)]), RelationRecord(items=frozenset({'Manteiga', 'Pao', '~ Arroz', '~ Feijao', '~ Cerveja'}), support=0.3, ordered_statistics=[OrderedStatistic(items_base=frozenset({'Manteiga', 'Pao', '~ Cerveja'}), items_add=frozenset({'~ Feijao', '~ Arroz'}), confidence=1.0, lift=1.4285714285714286), OrderedStatistic(items_base=frozenset({'Manteiga', 'Pao', '~ Cerveja', '~ Arroz'}), items_add=frozenset({'~ Feijao'}), confidence=1.0, lift=1.25), OrderedStatistic(items_base=frozenset({'~ Feijao', 'Manteiga', 'Pao', '~ Cerveja'}), items_add=frozenset({'~ Arroz'}), confidence=1.0, lift=1.25)]), RelationRecord(items=frozenset({'~Leite', 'Manteiga', '~ Arroz', '~ Feijao', '~ Cerveja'}), support=0.3, ordered_statistics=[OrderedStatistic(items_base=frozenset({'Manteiga', '~Leite'}), items_add=frozenset({'~ Feijao', '~ Cerveja', '~ Arroz'}), confidence=1.0, lift=2.0), OrderedStatistic(items_base=frozenset({'Manteiga', '~Leite', '~ Arroz'}), items_add=frozenset({'~ Feijao', '~ Cerveja'}), confidence=1.0, lift=1.6666666666666667), OrderedStatistic(items_base=frozenset({'Manteiga', '~ Cerveja', '~Leite'}), items_add=frozenset({'~ Feijao', '~ Arroz'}), confidence=1.0, lift=1.4285714285714286), OrderedStatistic(items_base=frozenset({'Manteiga', '~ Feijao', '~Leite'}), items_add=frozenset({'~ Cerveja', '~ Arroz'}), confidence=1.0, lift=1.6666666666666667), OrderedStatistic(items_base=frozenset({'Manteiga', '~Leite', '~ Cerveja', '~ Arroz'}), items_add=frozenset({'~ Feijao'}), confidence=1.0, lift=1.25), OrderedStatistic(items_base=frozenset({'Manteiga', '~ Feijao', '~Leite', '~ Arroz'}), items_add=frozenset({'~ Cerveja'}), confidence=1.0, lift=1.25), OrderedStatistic(items_base=frozenset({'Manteiga', '~ Feijao', '~ Cerveja', '~Leite'}), items_add=frozenset({'~ Arroz'}), confidence=1.0, lift=1.25)]), RelationRecord(items=frozenset({'~Leite', 'Pao', '~ Arroz', '~ Feijao', '~ Cerveja'}), support=0.3, ordered_statistics=[OrderedStatistic(items_base=frozenset({'Pao', '~Leite'}), items_add=frozenset({'~ Feijao', '~ Cerveja', '~ Arroz'}), confidence=1.0, lift=2.0), OrderedStatistic(items_base=frozenset({'Pao', '~Leite', '~ Arroz'}), items_add=frozenset({'~ Feijao', '~ Cerveja'}), confidence=1.0, lift=1.6666666666666667), OrderedStatistic(items_base=frozenset({'Pao', '~ Cerveja', '~Leite'}), items_add=frozenset({'~ Feijao', '~ Arroz'}), confidence=1.0, lift=1.4285714285714286), OrderedStatistic(items_base=frozenset({'Pao', '~ Feijao', '~Leite'}), items_add=frozenset({'~ Cerveja', '~ Arroz'}), confidence=1.0, lift=1.6666666666666667), OrderedStatistic(items_base=frozenset({'Pao', '~ Cerveja', '~Leite', '~ Arroz'}), items_add=frozenset({'~ Feijao'}), confidence=1.0, lift=1.25), OrderedStatistic(items_base=frozenset({'Pao', '~ Feijao', '~Leite', '~ Arroz'}), items_add=frozenset({'~ Cerveja'}), confidence=1.0, lift=1.25), OrderedStatistic(items_base=frozenset({'~ Feijao', 'Pao', '~ Cerveja', '~Leite'}), items_add=frozenset({'~ Arroz'}), confidence=1.0, lift=1.25)]), RelationRecord(items=frozenset({'~ Cafe', '~Manteiga', '~Leite', '~ Pao', '~ Cerveja'}), support=0.3, ordered_statistics=[OrderedStatistic(items_base=frozenset({'~ Cerveja', '~ Pao', '~Manteiga'}), items_add=frozenset({'~ Cafe', '~Leite'}), confidence=1.0, lift=1.6666666666666667), OrderedStatistic(items_base=frozenset({'~ Cafe', '~ Cerveja', '~ Pao', '~Manteiga'}), items_add=frozenset({'~Leite'}), confidence=1.0, lift=1.25), OrderedStatistic(items_base=frozenset({'~Manteiga', '~ Cerveja', '~ Pao', '~Leite'}), items_add=frozenset({'~ Cafe'}), confidence=1.0, lift=1.4285714285714286)]), RelationRecord(items=frozenset({'Manteiga', 'Pao', '~ Arroz', 'Cafe', '~ Feijao', '~ Cerveja'}), support=0.3, ordered_statistics=[OrderedStatistic(items_base=frozenset({'Cafe'}), items_add=frozenset({'Manteiga', 'Pao', '~ Arroz', '~ Feijao', '~ Cerveja'}), confidence=1.0, lift=3.3333333333333335), OrderedStatistic(items_base=frozenset({'Cafe', 'Manteiga'}), items_add=frozenset({'Pao', '~ Feijao', '~ Cerveja', '~ Arroz'}), confidence=1.0, lift=2.5), OrderedStatistic(items_base=frozenset({'Cafe', 'Pao'}), items_add=frozenset({'Manteiga', '~ Feijao', '~ Cerveja', '~ Arroz'}), confidence=1.0, lift=2.5), OrderedStatistic(items_base=frozenset({'Cafe', '~ Arroz'}), items_add=frozenset({'Manteiga', 'Pao', '~ Feijao', '~ Cerveja'}), confidence=1.0, lift=3.3333333333333335), OrderedStatistic(items_base=frozenset({'Cafe', '~ Cerveja'}), items_add=frozenset({'Manteiga', 'Pao', '~ Feijao', '~ Arroz'}), confidence=1.0, lift=2.5), OrderedStatistic(items_base=frozenset({'Cafe', '~ Feijao'}), items_add=frozenset({'Manteiga', 'Pao', '~ Cerveja', '~ Arroz'}), confidence=1.0, lift=3.3333333333333335), OrderedStatistic(items_base=frozenset({'Cafe', 'Manteiga', 'Pao'}), items_add=frozenset({'~ Feijao', '~ Cerveja', '~ Arroz'}), confidence=1.0, lift=2.0), OrderedStatistic(items_base=frozenset({'Cafe', 'Manteiga', '~ Arroz'}), items_add=frozenset({'Pao', '~ Feijao', '~ Cerveja'}), confidence=1.0, lift=2.5), OrderedStatistic(items_base=frozenset({'Cafe', 'Manteiga', '~ Cerveja'}), items_add=frozenset({'Pao', '~ Feijao', '~ Arroz'}), confidence=1.0, lift=2.0), OrderedStatistic(items_base=frozenset({'Cafe', 'Manteiga', '~ Feijao'}), items_add=frozenset({'Pao', '~ Cerveja', '~ Arroz'}), confidence=1.0, lift=2.5), OrderedStatistic(items_base=frozenset({'Cafe', 'Pao', '~ Arroz'}), items_add=frozenset({'Manteiga', '~ Feijao', '~ Cerveja'}), confidence=1.0, lift=2.5), OrderedStatistic(items_base=frozenset({'Cafe', 'Pao', '~ Cerveja'}), items_add=frozenset({'Manteiga', '~ Feijao', '~ Arroz'}), confidence=1.0, lift=2.0), OrderedStatistic(items_base=frozenset({'Cafe', 'Pao', '~ Feijao'}), items_add=frozenset({'Manteiga', '~ Cerveja', '~ Arroz'}), confidence=1.0, lift=2.5), OrderedStatistic(items_base=frozenset({'Cafe', '~ Cerveja', '~ Arroz'}), items_add=frozenset({'Manteiga', 'Pao', '~ Feijao'}), confidence=1.0, lift=2.5), OrderedStatistic(items_base=frozenset({'Cafe', '~ Feijao', '~ Arroz'}), items_add=frozenset({'Manteiga', 'Pao', '~ Cerveja'}), confidence=1.0, lift=3.3333333333333335), OrderedStatistic(items_base=frozenset({'Cafe', '~ Feijao', '~ Cerveja'}), items_add=frozenset({'Manteiga', 'Pao', '~ Arroz'}), confidence=1.0, lift=2.5), OrderedStatistic(items_base=frozenset({'Manteiga', 'Pao', '~ Cerveja'}), items_add=frozenset({'Cafe', '~ Feijao', '~ Arroz'}), confidence=1.0, lift=3.3333333333333335), OrderedStatistic(items_base=frozenset({'Cafe', 'Manteiga', 'Pao', '~ Arroz'}), items_add=frozenset({'~ Feijao', '~ Cerveja'}), confidence=1.0, lift=1.6666666666666667), OrderedStatistic(items_base=frozenset({'Cafe', 'Manteiga', 'Pao', '~ Cerveja'}), items_add=frozenset({'~ Feijao', '~ Arroz'}), confidence=1.0, lift=1.4285714285714286), OrderedStatistic(items_base=frozenset({'Cafe', 'Manteiga', 'Pao', '~ Feijao'}), items_add=frozenset({'~ Cerveja', '~ Arroz'}), confidence=1.0, lift=1.6666666666666667), OrderedStatistic(items_base=frozenset({'Cafe', 'Manteiga', '~ Cerveja', '~ Arroz'}), items_add=frozenset({'Pao', '~ Feijao'}), confidence=1.0, lift=2.0), OrderedStatistic(items_base=frozenset({'Cafe', 'Manteiga', '~ Feijao', '~ Arroz'}), items_add=frozenset({'Pao', '~ Cerveja'}), confidence=1.0, lift=2.5), OrderedStatistic(items_base=frozenset({'Cafe', 'Manteiga', '~ Feijao', '~ Cerveja'}), items_add=frozenset({'Pao', '~ Arroz'}), confidence=1.0, lift=2.0), OrderedStatistic(items_base=frozenset({'Cafe', 'Pao', '~ Cerveja', '~ Arroz'}), items_add=frozenset({'Manteiga', '~ Feijao'}), confidence=1.0, lift=2.0), OrderedStatistic(items_base=frozenset({'Cafe', 'Pao', '~ Feijao', '~ Arroz'}), items_add=frozenset({'Manteiga', '~ Cerveja'}), confidence=1.0, lift=2.5), OrderedStatistic(items_base=frozenset({'~ Feijao', 'Cafe', 'Pao', '~ Cerveja'}), items_add=frozenset({'Manteiga', '~ Arroz'}), confidence=1.0, lift=2.0), OrderedStatistic(items_base=frozenset({'Cafe', '~ Feijao', '~ Cerveja', '~ Arroz'}), items_add=frozenset({'Manteiga', 'Pao'}), confidence=1.0, lift=2.5), OrderedStatistic(items_base=frozenset({'Manteiga', 'Pao', '~ Cerveja', '~ Arroz'}), items_add=frozenset({'Cafe', '~ Feijao'}), confidence=1.0, lift=3.3333333333333335), OrderedStatistic(items_base=frozenset({'~ Feijao', 'Manteiga', 'Pao', '~ Cerveja'}), items_add=frozenset({'Cafe', '~ Arroz'}), confidence=1.0, lift=3.3333333333333335), OrderedStatistic(items_base=frozenset({'Manteiga', 'Pao', '~ Arroz', 'Cafe', '~ Cerveja'}), items_add=frozenset({'~ Feijao'}), confidence=1.0, lift=1.25), OrderedStatistic(items_base=frozenset({'Manteiga', 'Pao', '~ Arroz', 'Cafe', '~ Feijao'}), items_add=frozenset({'~ Cerveja'}), confidence=1.0, lift=1.25), OrderedStatistic(items_base=frozenset({'Manteiga', 'Pao', 'Cafe', '~ Feijao', '~ Cerveja'}), items_add=frozenset({'~ Arroz'}), confidence=1.0, lift=1.25), OrderedStatistic(items_base=frozenset({'Manteiga', '~ Arroz', 'Cafe', '~ Feijao', '~ Cerveja'}), items_add=frozenset({'Pao'}), confidence=1.0, lift=2.0), OrderedStatistic(items_base=frozenset({'Pao', '~ Arroz', 'Cafe', '~ Feijao', '~ Cerveja'}), items_add=frozenset({'Manteiga'}), confidence=1.0, lift=2.0), OrderedStatistic(items_base=frozenset({'Manteiga', 'Pao', '~ Arroz', '~ Feijao', '~ Cerveja'}), items_add=frozenset({'Cafe'}), confidence=1.0, lift=3.3333333333333335)])]\n"
          ]
        }
      ],
      "source": [
        "regras = apriori(transacoes, min_support = 0.3, min_confidence = 0.8)\n",
        "saida = list(regras) \n",
        "print(len(saida))\n",
        "print(saida)"
      ]
    },
    {
      "cell_type": "code",
      "execution_count": 118,
      "metadata": {
        "colab": {
          "base_uri": "https://localhost:8080/"
        },
        "id": "l4vMQUJfHu0e",
        "outputId": "9506e5dd-0644-4baa-9bd9-946a815b2d62"
      },
      "outputs": [
        {
          "name": "stdout",
          "output_type": "stream",
          "text": [
            "RelationRecord(items=frozenset({'~ Arroz'}), support=0.8, ordered_statistics=[OrderedStatistic(items_base=frozenset(), items_add=frozenset({'~ Arroz'}), confidence=0.8, lift=1.0)])\n"
          ]
        }
      ],
      "source": [
        "print(saida[0])"
      ]
    },
    {
      "cell_type": "code",
      "execution_count": 119,
      "metadata": {
        "colab": {
          "base_uri": "https://localhost:8080/"
        },
        "id": "M0hNno4uPcs9",
        "outputId": "f8ae8a58-6414-48c0-bade-7a03b4f3f97c"
      },
      "outputs": [
        {
          "name": "stdout",
          "output_type": "stream",
          "text": [
            "RelationRecord(items=frozenset({'~ Cerveja'}), support=0.8, ordered_statistics=[OrderedStatistic(items_base=frozenset(), items_add=frozenset({'~ Cerveja'}), confidence=0.8, lift=1.0)])\n"
          ]
        }
      ],
      "source": [
        "print(saida[1])"
      ]
    },
    {
      "cell_type": "code",
      "execution_count": 120,
      "metadata": {
        "colab": {
          "base_uri": "https://localhost:8080/"
        },
        "id": "0ZMoSVL_9aXP",
        "outputId": "43a09394-2792-4963-ed70-e0f1d3af4a17"
      },
      "outputs": [
        {
          "name": "stdout",
          "output_type": "stream",
          "text": [
            "RelationRecord(items=frozenset({'~ Feijao'}), support=0.8, ordered_statistics=[OrderedStatistic(items_base=frozenset(), items_add=frozenset({'~ Feijao'}), confidence=0.8, lift=1.0)])\n"
          ]
        }
      ],
      "source": [
        "print(saida[2])"
      ]
    },
    {
      "cell_type": "markdown",
      "metadata": {
        "id": "soknidg94a2y"
      },
      "source": [
        "**Para facilitar a visualização, veja como transformar isso em um dataframe** \n",
        "\n",
        "Extraído de:\n",
        "\n",
        "https://www.section.io/engineering-education/apriori-algorithm-in-python/\n",
        "\n",
        "https://splunktool.com/understanding-apyoris-output"
      ]
    },
    {
      "cell_type": "code",
      "execution_count": 131,
      "metadata": {
        "id": "UWDno2uo4aL0"
      },
      "outputs": [],
      "source": [
        "Antecedente = []\n",
        "Consequente = []\n",
        "suporte = []\n",
        "confianca = []\n",
        "lift = []\n",
        "\n",
        "for resultado in saida:\n",
        "  s = resultado[1]\n",
        "  result_rules = resultado[2]\n",
        "  for result_rule in result_rules:\n",
        "    a = list(result_rule[0])\n",
        "    b = list(result_rule[1])\n",
        "    c = result_rule[2]\n",
        "    l = result_rule[3]\n",
        "    out = False\n",
        "    for e in a:\n",
        "      if not '~' in e: \n",
        "        out = True\n",
        "    for e in b:\n",
        "       if '~' in e: \n",
        "        out = True\n",
        "    if out:continue\n",
        "    #if not '~' in a or not'~' in b: continue\n",
        "    if len(a) == 0 or len(b) == 0: continue\n",
        "    Antecedente.append(a)\n",
        "    Consequente.append(b)\n",
        "    suporte.append(s)\n",
        "    confianca.append(c)\n",
        "    lift.append(l)\n",
        "    RegrasFinais = pd.DataFrame({'Antecedente': Antecedente, 'Consequente': Consequente, 'suporte': suporte, 'confianca': confianca, 'lift': lift})"
      ]
    },
    {
      "cell_type": "code",
      "execution_count": 132,
      "metadata": {
        "colab": {
          "base_uri": "https://localhost:8080/",
          "height": 112
        },
        "id": "QW7wcZbe431-",
        "outputId": "9a4ebee0-91b5-4add-e562-d3cab7939970"
      },
      "outputs": [
        {
          "data": {
            "text/html": [
              "<div>\n",
              "<style scoped>\n",
              "    .dataframe tbody tr th:only-of-type {\n",
              "        vertical-align: middle;\n",
              "    }\n",
              "\n",
              "    .dataframe tbody tr th {\n",
              "        vertical-align: top;\n",
              "    }\n",
              "\n",
              "    .dataframe thead th {\n",
              "        text-align: right;\n",
              "    }\n",
              "</style>\n",
              "<table border=\"1\" class=\"dataframe\">\n",
              "  <thead>\n",
              "    <tr style=\"text-align: right;\">\n",
              "      <th></th>\n",
              "      <th>Antecedente</th>\n",
              "      <th>Consequente</th>\n",
              "      <th>suporte</th>\n",
              "      <th>confianca</th>\n",
              "      <th>lift</th>\n",
              "    </tr>\n",
              "  </thead>\n",
              "  <tbody>\n",
              "    <tr>\n",
              "      <th>0</th>\n",
              "      <td>[~ Feijao, ~ Cerveja, ~ Arroz]</td>\n",
              "      <td>[Manteiga]</td>\n",
              "      <td>0.4</td>\n",
              "      <td>0.8</td>\n",
              "      <td>1.6</td>\n",
              "    </tr>\n",
              "    <tr>\n",
              "      <th>1</th>\n",
              "      <td>[~ Feijao, ~ Cerveja, ~ Arroz]</td>\n",
              "      <td>[Pao]</td>\n",
              "      <td>0.4</td>\n",
              "      <td>0.8</td>\n",
              "      <td>1.6</td>\n",
              "    </tr>\n",
              "  </tbody>\n",
              "</table>\n",
              "</div>"
            ],
            "text/plain": [
              "                      Antecedente Consequente  suporte  confianca  lift\n",
              "0  [~ Feijao, ~ Cerveja, ~ Arroz]  [Manteiga]      0.4        0.8   1.6\n",
              "1  [~ Feijao, ~ Cerveja, ~ Arroz]       [Pao]      0.4        0.8   1.6"
            ]
          },
          "execution_count": 132,
          "metadata": {},
          "output_type": "execute_result"
        }
      ],
      "source": [
        "RegrasFinais"
      ]
    },
    {
      "cell_type": "markdown",
      "metadata": {
        "id": "DJUXykHjhbJ0"
      },
      "source": [
        "**Podemos ordenar estas regras por uma métrica desejada**"
      ]
    },
    {
      "cell_type": "code",
      "execution_count": 133,
      "metadata": {
        "colab": {
          "base_uri": "https://localhost:8080/",
          "height": 112
        },
        "id": "A7X_YwVHhaxf",
        "outputId": "27c00b86-4295-4b16-b49f-f3bbf3d34c9e"
      },
      "outputs": [
        {
          "data": {
            "text/html": [
              "<div>\n",
              "<style scoped>\n",
              "    .dataframe tbody tr th:only-of-type {\n",
              "        vertical-align: middle;\n",
              "    }\n",
              "\n",
              "    .dataframe tbody tr th {\n",
              "        vertical-align: top;\n",
              "    }\n",
              "\n",
              "    .dataframe thead th {\n",
              "        text-align: right;\n",
              "    }\n",
              "</style>\n",
              "<table border=\"1\" class=\"dataframe\">\n",
              "  <thead>\n",
              "    <tr style=\"text-align: right;\">\n",
              "      <th></th>\n",
              "      <th>Antecedente</th>\n",
              "      <th>Consequente</th>\n",
              "      <th>suporte</th>\n",
              "      <th>confianca</th>\n",
              "      <th>lift</th>\n",
              "    </tr>\n",
              "  </thead>\n",
              "  <tbody>\n",
              "    <tr>\n",
              "      <th>0</th>\n",
              "      <td>[~ Feijao, ~ Cerveja, ~ Arroz]</td>\n",
              "      <td>[Manteiga]</td>\n",
              "      <td>0.4</td>\n",
              "      <td>0.8</td>\n",
              "      <td>1.6</td>\n",
              "    </tr>\n",
              "    <tr>\n",
              "      <th>1</th>\n",
              "      <td>[~ Feijao, ~ Cerveja, ~ Arroz]</td>\n",
              "      <td>[Pao]</td>\n",
              "      <td>0.4</td>\n",
              "      <td>0.8</td>\n",
              "      <td>1.6</td>\n",
              "    </tr>\n",
              "  </tbody>\n",
              "</table>\n",
              "</div>"
            ],
            "text/plain": [
              "                      Antecedente Consequente  suporte  confianca  lift\n",
              "0  [~ Feijao, ~ Cerveja, ~ Arroz]  [Manteiga]      0.4        0.8   1.6\n",
              "1  [~ Feijao, ~ Cerveja, ~ Arroz]       [Pao]      0.4        0.8   1.6"
            ]
          },
          "execution_count": 133,
          "metadata": {},
          "output_type": "execute_result"
        }
      ],
      "source": [
        "RegrasFinais.sort_values(by='lift', ascending =False)"
      ]
    }
  ],
  "metadata": {
    "colab": {
      "provenance": []
    },
    "kernelspec": {
      "display_name": "Python 3",
      "name": "python3"
    },
    "language_info": {
      "codemirror_mode": {
        "name": "ipython",
        "version": 3
      },
      "file_extension": ".py",
      "mimetype": "text/x-python",
      "name": "python",
      "nbconvert_exporter": "python",
      "pygments_lexer": "ipython3",
      "version": "3.11.5"
    }
  },
  "nbformat": 4,
  "nbformat_minor": 0
}
