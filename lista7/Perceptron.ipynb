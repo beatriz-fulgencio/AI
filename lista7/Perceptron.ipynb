{
 "cells": [
  {
   "cell_type": "code",
   "execution_count": 8,
   "metadata": {},
   "outputs": [],
   "source": [
    "from sklearn.linear_model import Perceptron\n",
    "import numpy as np\n"
   ]
  },
  {
   "cell_type": "markdown",
   "metadata": {},
   "source": [
    "### Criar base"
   ]
  },
  {
   "cell_type": "markdown",
   "metadata": {},
   "source": [
    "Essa função é usada para criar a base de treino do perceptron. Assim ela é usada para definir as saidas lógicas baseado no tipo de gate escolhido. Se for \"AND\", a função testa de todos os valores são iguaus a 1, uma vez que a porta AND só retorna verdadeiro se todas as entradas forem verdadeiras. Se for \"OR\", a função testa se algum valor é 1, uma vez que a porta or retorna verdadeiro se alguma entrada for verdadeira. A função faz essa base com base nos inputs do tamanho determinado, onde cada linha representa uma combinação única de valores booleanos (0 e 1) para um conjunto de entradas."
   ]
  },
  {
   "cell_type": "code",
   "execution_count": 9,
   "metadata": {},
   "outputs": [],
   "source": [
    "\n",
    "def create_dataset(num_inputs, logic_gate):\n",
    "    # Gera todas as combinações possíveis de entradas booleanas\n",
    "    inputs = np.array(list(np.ndindex((2,) * num_inputs)))\n",
    "\n",
    "    # Define as saídas da lógica booleana selecionada (AND ou OR)\n",
    "    if logic_gate.lower() == 'and':\n",
    "        outputs = np.all(inputs, axis=1).astype(int)\n",
    "    elif logic_gate.lower() == 'or':\n",
    "        outputs = np.any(inputs, axis=1).astype(int)\n",
    "    else:\n",
    "        raise ValueError(\"Deve ser 'AND' ou 'OR'.\")\n",
    "\n",
    "    return inputs, outputs\n"
   ]
  },
  {
   "cell_type": "markdown",
   "metadata": {},
   "source": [
    "No main é definido pelo teclado o número de entradas e o tipo de porta. Após isso é construido o dataset de treino e treinado o perceptron com esses valores. Assim com o algoritmo treinado, é possivel fazer os testes com valores inseridos no teclado pelo usuário."
   ]
  },
  {
   "cell_type": "code",
   "execution_count": 10,
   "metadata": {},
   "outputs": [],
   "source": [
    "\n",
    "def main():\n",
    "    # Defina o número de entradas (pode ser ajustado)\n",
    "    num_inputs = int(input(\"Digite o número de entradas: \"))\n",
    "    gate_type = input(\"Digite o tipo de porta lógica (AND ou OR): \")\n",
    "\n",
    "    # Crie o conjunto de dados com base nas entradas do usuário\n",
    "    X, y = create_dataset(num_inputs, gate_type)\n",
    "\n",
    "    # Inicialize e treine o Perceptron\n",
    "    perceptron = Perceptron(random_state=42)\n",
    "    perceptron.fit(X, y)\n",
    "\n",
    "    # Teste o Perceptron com novas entradas\n",
    "    while True:\n",
    "        user_inputs = [int(input(f\"Digite a entrada {i + 1} (0 ou 1): \")) for i in range(num_inputs)]\n",
    "        prediction = perceptron.predict([user_inputs])\n",
    "        print(f\"Resultado: {prediction[0]}\")\n",
    "\n"
   ]
  },
  {
   "cell_type": "markdown",
   "metadata": {},
   "source": [
    "usado para rodar o main"
   ]
  },
  {
   "cell_type": "code",
   "execution_count": 12,
   "metadata": {},
   "outputs": [
    {
     "ename": "ValueError",
     "evalue": "invalid literal for int() with base 10: ''",
     "output_type": "error",
     "traceback": [
      "\u001b[0;31m---------------------------------------------------------------------------\u001b[0m",
      "\u001b[0;31mValueError\u001b[0m                                Traceback (most recent call last)",
      "\u001b[1;32m/Users/beatrizfcmenezes/Documents/Faculdade/PUC/IA/Atividades/AI/lista7/Perceptron.ipynb Cell 8\u001b[0m line \u001b[0;36m1\n\u001b[0;32m----> <a href='vscode-notebook-cell:/Users/beatrizfcmenezes/Documents/Faculdade/PUC/IA/Atividades/AI/lista7/Perceptron.ipynb#W5sZmlsZQ%3D%3D?line=0'>1</a>\u001b[0m main()\n",
      "\u001b[1;32m/Users/beatrizfcmenezes/Documents/Faculdade/PUC/IA/Atividades/AI/lista7/Perceptron.ipynb Cell 8\u001b[0m line \u001b[0;36m3\n\u001b[1;32m      <a href='vscode-notebook-cell:/Users/beatrizfcmenezes/Documents/Faculdade/PUC/IA/Atividades/AI/lista7/Perceptron.ipynb#W5sZmlsZQ%3D%3D?line=0'>1</a>\u001b[0m \u001b[39mdef\u001b[39;00m \u001b[39mmain\u001b[39m():\n\u001b[1;32m      <a href='vscode-notebook-cell:/Users/beatrizfcmenezes/Documents/Faculdade/PUC/IA/Atividades/AI/lista7/Perceptron.ipynb#W5sZmlsZQ%3D%3D?line=1'>2</a>\u001b[0m     \u001b[39m# Defina o número de entradas (pode ser ajustado)\u001b[39;00m\n\u001b[0;32m----> <a href='vscode-notebook-cell:/Users/beatrizfcmenezes/Documents/Faculdade/PUC/IA/Atividades/AI/lista7/Perceptron.ipynb#W5sZmlsZQ%3D%3D?line=2'>3</a>\u001b[0m     num_inputs \u001b[39m=\u001b[39m \u001b[39mint\u001b[39;49m(\u001b[39minput\u001b[39;49m(\u001b[39m\"\u001b[39;49m\u001b[39mDigite o número de entradas: \u001b[39;49m\u001b[39m\"\u001b[39;49m))\n\u001b[1;32m      <a href='vscode-notebook-cell:/Users/beatrizfcmenezes/Documents/Faculdade/PUC/IA/Atividades/AI/lista7/Perceptron.ipynb#W5sZmlsZQ%3D%3D?line=3'>4</a>\u001b[0m     gate_type \u001b[39m=\u001b[39m \u001b[39minput\u001b[39m(\u001b[39m\"\u001b[39m\u001b[39mDigite o tipo de porta lógica (AND ou OR): \u001b[39m\u001b[39m\"\u001b[39m)\n\u001b[1;32m      <a href='vscode-notebook-cell:/Users/beatrizfcmenezes/Documents/Faculdade/PUC/IA/Atividades/AI/lista7/Perceptron.ipynb#W5sZmlsZQ%3D%3D?line=5'>6</a>\u001b[0m     \u001b[39m# Crie o conjunto de dados com base nas entradas do usuário\u001b[39;00m\n",
      "\u001b[0;31mValueError\u001b[0m: invalid literal for int() with base 10: ''"
     ]
    }
   ],
   "source": [
    "main()"
   ]
  }
 ],
 "metadata": {
  "kernelspec": {
   "display_name": "Python 3",
   "language": "python",
   "name": "python3"
  },
  "language_info": {
   "codemirror_mode": {
    "name": "ipython",
    "version": 3
   },
   "file_extension": ".py",
   "mimetype": "text/x-python",
   "name": "python",
   "nbconvert_exporter": "python",
   "pygments_lexer": "ipython3",
   "version": "3.11.5"
  }
 },
 "nbformat": 4,
 "nbformat_minor": 2
}
